{
 "cells": [
  {
   "cell_type": "code",
   "execution_count": 1,
   "metadata": {
    "ExecuteTime": {
     "end_time": "2021-03-04T06:37:42.892775Z",
     "start_time": "2021-03-04T06:37:38.783837Z"
    }
   },
   "outputs": [],
   "source": [
    "import pandas as pd\n",
    "import matplotlib.pyplot as plt\n",
    "import seaborn as sn\n",
    "from statsmodels.graphics.regressionplots import influence_plot\n",
    "import statsmodels.formula.api as smf\n",
    "import numpy as np\n",
    "from sklearn.preprocessing import StandardScaler, MinMaxScaler\n"
   ]
  },
  {
   "cell_type": "code",
   "execution_count": 2,
   "metadata": {
    "ExecuteTime": {
     "end_time": "2021-03-04T06:37:42.918223Z",
     "start_time": "2021-03-04T06:37:42.897657Z"
    }
   },
   "outputs": [],
   "source": [
    "startups = pd.read_csv(\"C:/Users/srina/Desktop/csv files/50_Startups.csv\")"
   ]
  },
  {
   "cell_type": "code",
   "execution_count": 3,
   "metadata": {
    "ExecuteTime": {
     "end_time": "2021-03-04T06:37:42.961282Z",
     "start_time": "2021-03-04T06:37:42.924218Z"
    }
   },
   "outputs": [
    {
     "data": {
      "text/html": [
       "<div>\n",
       "<style scoped>\n",
       "    .dataframe tbody tr th:only-of-type {\n",
       "        vertical-align: middle;\n",
       "    }\n",
       "\n",
       "    .dataframe tbody tr th {\n",
       "        vertical-align: top;\n",
       "    }\n",
       "\n",
       "    .dataframe thead th {\n",
       "        text-align: right;\n",
       "    }\n",
       "</style>\n",
       "<table border=\"1\" class=\"dataframe\">\n",
       "  <thead>\n",
       "    <tr style=\"text-align: right;\">\n",
       "      <th></th>\n",
       "      <th>R&amp;D Spend</th>\n",
       "      <th>Administration</th>\n",
       "      <th>Marketing Spend</th>\n",
       "      <th>State</th>\n",
       "      <th>Profit</th>\n",
       "    </tr>\n",
       "  </thead>\n",
       "  <tbody>\n",
       "    <tr>\n",
       "      <th>0</th>\n",
       "      <td>165349.20</td>\n",
       "      <td>136897.80</td>\n",
       "      <td>471784.10</td>\n",
       "      <td>New York</td>\n",
       "      <td>192261.83</td>\n",
       "    </tr>\n",
       "    <tr>\n",
       "      <th>1</th>\n",
       "      <td>162597.70</td>\n",
       "      <td>151377.59</td>\n",
       "      <td>443898.53</td>\n",
       "      <td>California</td>\n",
       "      <td>191792.06</td>\n",
       "    </tr>\n",
       "    <tr>\n",
       "      <th>2</th>\n",
       "      <td>153441.51</td>\n",
       "      <td>101145.55</td>\n",
       "      <td>407934.54</td>\n",
       "      <td>Florida</td>\n",
       "      <td>191050.39</td>\n",
       "    </tr>\n",
       "    <tr>\n",
       "      <th>3</th>\n",
       "      <td>144372.41</td>\n",
       "      <td>118671.85</td>\n",
       "      <td>383199.62</td>\n",
       "      <td>New York</td>\n",
       "      <td>182901.99</td>\n",
       "    </tr>\n",
       "    <tr>\n",
       "      <th>4</th>\n",
       "      <td>142107.34</td>\n",
       "      <td>91391.77</td>\n",
       "      <td>366168.42</td>\n",
       "      <td>Florida</td>\n",
       "      <td>166187.94</td>\n",
       "    </tr>\n",
       "  </tbody>\n",
       "</table>\n",
       "</div>"
      ],
      "text/plain": [
       "   R&D Spend  Administration  Marketing Spend       State     Profit\n",
       "0  165349.20       136897.80        471784.10    New York  192261.83\n",
       "1  162597.70       151377.59        443898.53  California  191792.06\n",
       "2  153441.51       101145.55        407934.54     Florida  191050.39\n",
       "3  144372.41       118671.85        383199.62    New York  182901.99\n",
       "4  142107.34        91391.77        366168.42     Florida  166187.94"
      ]
     },
     "execution_count": 3,
     "metadata": {},
     "output_type": "execute_result"
    }
   ],
   "source": [
    "startups.head()"
   ]
  },
  {
   "cell_type": "code",
   "execution_count": 4,
   "metadata": {
    "ExecuteTime": {
     "end_time": "2021-03-04T06:37:42.980328Z",
     "start_time": "2021-03-04T06:37:42.967267Z"
    }
   },
   "outputs": [
    {
     "data": {
      "text/plain": [
       "(50, 5)"
      ]
     },
     "execution_count": 4,
     "metadata": {},
     "output_type": "execute_result"
    }
   ],
   "source": [
    "startups.shape"
   ]
  },
  {
   "cell_type": "code",
   "execution_count": 5,
   "metadata": {
    "ExecuteTime": {
     "end_time": "2021-03-04T06:37:42.995964Z",
     "start_time": "2021-03-04T06:37:42.985797Z"
    }
   },
   "outputs": [
    {
     "data": {
      "text/plain": [
       "Index(['R&D Spend', 'Administration', 'Marketing Spend', 'State', 'Profit'], dtype='object')"
      ]
     },
     "execution_count": 5,
     "metadata": {},
     "output_type": "execute_result"
    }
   ],
   "source": [
    "startups.columns"
   ]
  },
  {
   "cell_type": "code",
   "execution_count": 6,
   "metadata": {
    "ExecuteTime": {
     "end_time": "2021-03-04T06:37:43.040201Z",
     "start_time": "2021-03-04T06:37:43.000583Z"
    }
   },
   "outputs": [
    {
     "name": "stdout",
     "output_type": "stream",
     "text": [
      "<class 'pandas.core.frame.DataFrame'>\n",
      "RangeIndex: 50 entries, 0 to 49\n",
      "Data columns (total 5 columns):\n",
      " #   Column           Non-Null Count  Dtype  \n",
      "---  ------           --------------  -----  \n",
      " 0   R&D Spend        50 non-null     float64\n",
      " 1   Administration   50 non-null     float64\n",
      " 2   Marketing Spend  50 non-null     float64\n",
      " 3   State            50 non-null     object \n",
      " 4   Profit           50 non-null     float64\n",
      "dtypes: float64(4), object(1)\n",
      "memory usage: 2.1+ KB\n"
     ]
    }
   ],
   "source": [
    "startups.info()"
   ]
  },
  {
   "cell_type": "markdown",
   "metadata": {},
   "source": [
    "1. We can see that R&D spend, Administration, Marketing Spend and Profit consists of floating point data type values and State has object  type values. \n",
    "2. We can also see that all 21 observations are non null and hence we don't have any missing values"
   ]
  },
  {
   "cell_type": "code",
   "execution_count": 7,
   "metadata": {
    "ExecuteTime": {
     "end_time": "2021-03-04T06:37:43.071647Z",
     "start_time": "2021-03-04T06:37:43.040201Z"
    }
   },
   "outputs": [
    {
     "data": {
      "text/html": [
       "<div>\n",
       "<style scoped>\n",
       "    .dataframe tbody tr th:only-of-type {\n",
       "        vertical-align: middle;\n",
       "    }\n",
       "\n",
       "    .dataframe tbody tr th {\n",
       "        vertical-align: top;\n",
       "    }\n",
       "\n",
       "    .dataframe thead th {\n",
       "        text-align: right;\n",
       "    }\n",
       "</style>\n",
       "<table border=\"1\" class=\"dataframe\">\n",
       "  <thead>\n",
       "    <tr style=\"text-align: right;\">\n",
       "      <th></th>\n",
       "      <th>R&amp;D Spend</th>\n",
       "      <th>Administration</th>\n",
       "      <th>Marketing Spend</th>\n",
       "      <th>State</th>\n",
       "      <th>Profit</th>\n",
       "    </tr>\n",
       "  </thead>\n",
       "  <tbody>\n",
       "  </tbody>\n",
       "</table>\n",
       "</div>"
      ],
      "text/plain": [
       "Empty DataFrame\n",
       "Columns: [R&D Spend, Administration, Marketing Spend, State, Profit]\n",
       "Index: []"
      ]
     },
     "execution_count": 7,
     "metadata": {},
     "output_type": "execute_result"
    }
   ],
   "source": [
    "startups[startups.duplicated()]"
   ]
  },
  {
   "cell_type": "code",
   "execution_count": 8,
   "metadata": {
    "ExecuteTime": {
     "end_time": "2021-03-04T06:37:43.143163Z",
     "start_time": "2021-03-04T06:37:43.076768Z"
    }
   },
   "outputs": [
    {
     "data": {
      "text/html": [
       "<div>\n",
       "<style scoped>\n",
       "    .dataframe tbody tr th:only-of-type {\n",
       "        vertical-align: middle;\n",
       "    }\n",
       "\n",
       "    .dataframe tbody tr th {\n",
       "        vertical-align: top;\n",
       "    }\n",
       "\n",
       "    .dataframe thead th {\n",
       "        text-align: right;\n",
       "    }\n",
       "</style>\n",
       "<table border=\"1\" class=\"dataframe\">\n",
       "  <thead>\n",
       "    <tr style=\"text-align: right;\">\n",
       "      <th></th>\n",
       "      <th>R&amp;D Spend</th>\n",
       "      <th>Administration</th>\n",
       "      <th>Marketing Spend</th>\n",
       "      <th>Profit</th>\n",
       "    </tr>\n",
       "  </thead>\n",
       "  <tbody>\n",
       "    <tr>\n",
       "      <th>count</th>\n",
       "      <td>50.000000</td>\n",
       "      <td>50.000000</td>\n",
       "      <td>50.000000</td>\n",
       "      <td>50.000000</td>\n",
       "    </tr>\n",
       "    <tr>\n",
       "      <th>mean</th>\n",
       "      <td>73721.615600</td>\n",
       "      <td>121344.639600</td>\n",
       "      <td>211025.097800</td>\n",
       "      <td>112012.639200</td>\n",
       "    </tr>\n",
       "    <tr>\n",
       "      <th>std</th>\n",
       "      <td>45902.256482</td>\n",
       "      <td>28017.802755</td>\n",
       "      <td>122290.310726</td>\n",
       "      <td>40306.180338</td>\n",
       "    </tr>\n",
       "    <tr>\n",
       "      <th>min</th>\n",
       "      <td>0.000000</td>\n",
       "      <td>51283.140000</td>\n",
       "      <td>0.000000</td>\n",
       "      <td>14681.400000</td>\n",
       "    </tr>\n",
       "    <tr>\n",
       "      <th>25%</th>\n",
       "      <td>39936.370000</td>\n",
       "      <td>103730.875000</td>\n",
       "      <td>129300.132500</td>\n",
       "      <td>90138.902500</td>\n",
       "    </tr>\n",
       "    <tr>\n",
       "      <th>50%</th>\n",
       "      <td>73051.080000</td>\n",
       "      <td>122699.795000</td>\n",
       "      <td>212716.240000</td>\n",
       "      <td>107978.190000</td>\n",
       "    </tr>\n",
       "    <tr>\n",
       "      <th>75%</th>\n",
       "      <td>101602.800000</td>\n",
       "      <td>144842.180000</td>\n",
       "      <td>299469.085000</td>\n",
       "      <td>139765.977500</td>\n",
       "    </tr>\n",
       "    <tr>\n",
       "      <th>max</th>\n",
       "      <td>165349.200000</td>\n",
       "      <td>182645.560000</td>\n",
       "      <td>471784.100000</td>\n",
       "      <td>192261.830000</td>\n",
       "    </tr>\n",
       "  </tbody>\n",
       "</table>\n",
       "</div>"
      ],
      "text/plain": [
       "           R&D Spend  Administration  Marketing Spend         Profit\n",
       "count      50.000000       50.000000        50.000000      50.000000\n",
       "mean    73721.615600   121344.639600    211025.097800  112012.639200\n",
       "std     45902.256482    28017.802755    122290.310726   40306.180338\n",
       "min         0.000000    51283.140000         0.000000   14681.400000\n",
       "25%     39936.370000   103730.875000    129300.132500   90138.902500\n",
       "50%     73051.080000   122699.795000    212716.240000  107978.190000\n",
       "75%    101602.800000   144842.180000    299469.085000  139765.977500\n",
       "max    165349.200000   182645.560000    471784.100000  192261.830000"
      ]
     },
     "execution_count": 8,
     "metadata": {},
     "output_type": "execute_result"
    }
   ],
   "source": [
    "startups.describe()"
   ]
  },
  {
   "cell_type": "markdown",
   "metadata": {},
   "source": [
    "We have to make a prediction model to predict the Profit of startups. So in this case our target variable is Profit."
   ]
  },
  {
   "cell_type": "code",
   "execution_count": 9,
   "metadata": {
    "ExecuteTime": {
     "end_time": "2021-03-04T06:37:43.168312Z",
     "start_time": "2021-03-04T06:37:43.148922Z"
    }
   },
   "outputs": [
    {
     "data": {
      "text/plain": [
       "array([192261.83, 191792.06, 191050.39, 182901.99, 166187.94, 156991.12,\n",
       "       156122.51, 155752.6 , 152211.77, 149759.96, 146121.95, 144259.4 ,\n",
       "       141585.52, 134307.35, 132602.65, 129917.04, 126992.93, 125370.37,\n",
       "       124266.9 , 122776.86, 118474.03, 111313.02, 110352.25, 108733.99,\n",
       "       108552.04, 107404.34, 105733.54, 105008.31, 103282.38, 101004.64,\n",
       "        99937.59,  97483.56,  97427.84,  96778.92,  96712.8 ,  96479.51,\n",
       "        90708.19,  89949.14,  81229.06,  81005.76,  78239.91,  77798.83,\n",
       "        71498.49,  69758.98,  65200.33,  64926.08,  49490.75,  42559.73,\n",
       "        35673.41,  14681.4 ])"
      ]
     },
     "execution_count": 9,
     "metadata": {},
     "output_type": "execute_result"
    }
   ],
   "source": [
    "startups['Profit'].unique()"
   ]
  },
  {
   "cell_type": "code",
   "execution_count": 10,
   "metadata": {
    "ExecuteTime": {
     "end_time": "2021-03-04T06:37:43.196171Z",
     "start_time": "2021-03-04T06:37:43.171073Z"
    }
   },
   "outputs": [
    {
     "data": {
      "text/plain": [
       "118474.03    1\n",
       "69758.98     1\n",
       "81229.06     1\n",
       "101004.64    1\n",
       "124266.90    1\n",
       "49490.75     1\n",
       "192261.83    1\n",
       "71498.49     1\n",
       "156991.12    1\n",
       "108733.99    1\n",
       "78239.91     1\n",
       "64926.08     1\n",
       "144259.40    1\n",
       "108552.04    1\n",
       "97427.84     1\n",
       "126992.93    1\n",
       "105733.54    1\n",
       "96712.80     1\n",
       "96479.51     1\n",
       "134307.35    1\n",
       "99937.59     1\n",
       "90708.19     1\n",
       "182901.99    1\n",
       "110352.25    1\n",
       "42559.73     1\n",
       "146121.95    1\n",
       "89949.14     1\n",
       "152211.77    1\n",
       "35673.41     1\n",
       "156122.51    1\n",
       "166187.94    1\n",
       "65200.33     1\n",
       "149759.96    1\n",
       "155752.60    1\n",
       "191792.06    1\n",
       "125370.37    1\n",
       "107404.34    1\n",
       "14681.40     1\n",
       "111313.02    1\n",
       "81005.76     1\n",
       "105008.31    1\n",
       "103282.38    1\n",
       "132602.65    1\n",
       "129917.04    1\n",
       "122776.86    1\n",
       "96778.92     1\n",
       "77798.83     1\n",
       "141585.52    1\n",
       "191050.39    1\n",
       "97483.56     1\n",
       "Name: Profit, dtype: int64"
      ]
     },
     "execution_count": 10,
     "metadata": {},
     "output_type": "execute_result"
    }
   ],
   "source": [
    "startups['Profit'].value_counts()"
   ]
  },
  {
   "cell_type": "markdown",
   "metadata": {},
   "source": [
    "# Data visualization"
   ]
  },
  {
   "cell_type": "markdown",
   "metadata": {},
   "source": [
    "Performing univariate analysis using boxplot. Boxplots are very intuitive for checking any outlier data "
   ]
  },
  {
   "cell_type": "code",
   "execution_count": 11,
   "metadata": {
    "ExecuteTime": {
     "end_time": "2021-03-04T06:37:43.532411Z",
     "start_time": "2021-03-04T06:37:43.203348Z"
    }
   },
   "outputs": [
    {
     "name": "stderr",
     "output_type": "stream",
     "text": [
      "E:\\anaconda\\lib\\site-packages\\seaborn\\_decorators.py:36: FutureWarning: Pass the following variable as a keyword arg: x. From version 0.12, the only valid positional argument will be `data`, and passing other arguments without an explicit keyword will result in an error or misinterpretation.\n",
      "  warnings.warn(\n"
     ]
    },
    {
     "data": {
      "text/plain": [
       "<AxesSubplot:xlabel='R&D Spend'>"
      ]
     },
     "execution_count": 11,
     "metadata": {},
     "output_type": "execute_result"
    },
    {
     "data": {
      "image/png": "[encoded data removed]",
      "text/plain": [
       "<Figure size 432x288 with 1 Axes>"
      ]
     },
     "metadata": {
      "needs_background": "light"
     },
     "output_type": "display_data"
    }
   ],
   "source": [
    "sn.boxplot(startups['R&D Spend'])"
   ]
  },
  {
   "cell_type": "markdown",
   "metadata": {},
   "source": [
    "1. There are no outliers in the R & D spend column. \n",
    "2. The median line is at the centre of the box which means there is no skewness in the data."
   ]
  },
  {
   "cell_type": "code",
   "execution_count": 12,
   "metadata": {
    "ExecuteTime": {
     "end_time": "2021-03-04T06:37:43.858247Z",
     "start_time": "2021-03-04T06:37:43.535054Z"
    }
   },
   "outputs": [
    {
     "name": "stderr",
     "output_type": "stream",
     "text": [
      "E:\\anaconda\\lib\\site-packages\\seaborn\\_decorators.py:36: FutureWarning: Pass the following variable as a keyword arg: x. From version 0.12, the only valid positional argument will be `data`, and passing other arguments without an explicit keyword will result in an error or misinterpretation.\n",
      "  warnings.warn(\n"
     ]
    },
    {
     "data": {
      "text/plain": [
       "<AxesSubplot:xlabel='Administration'>"
      ]
     },
     "execution_count": 12,
     "metadata": {},
     "output_type": "execute_result"
    },
    {
     "data": {
      "image/png": "[encoded data removed]",
      "text/plain": [
       "<Figure size 432x288 with 1 Axes>"
      ]
     },
     "metadata": {
      "needs_background": "light"
     },
     "output_type": "display_data"
    }
   ],
   "source": [
    "sn.boxplot(startups['Administration'])"
   ]
  },
  {
   "cell_type": "markdown",
   "metadata": {},
   "source": [
    "1. There are no outliers in the Administration column. \n",
    "2. The median line is not at the centre of the box which means there is skewness in the data."
   ]
  },
  {
   "cell_type": "code",
   "execution_count": 13,
   "metadata": {
    "ExecuteTime": {
     "end_time": "2021-03-04T06:37:44.064773Z",
     "start_time": "2021-03-04T06:37:43.858247Z"
    }
   },
   "outputs": [
    {
     "name": "stderr",
     "output_type": "stream",
     "text": [
      "E:\\anaconda\\lib\\site-packages\\seaborn\\_decorators.py:36: FutureWarning: Pass the following variable as a keyword arg: x. From version 0.12, the only valid positional argument will be `data`, and passing other arguments without an explicit keyword will result in an error or misinterpretation.\n",
      "  warnings.warn(\n"
     ]
    },
    {
     "data": {
      "text/plain": [
       "<AxesSubplot:xlabel='Marketing Spend'>"
      ]
     },
     "execution_count": 13,
     "metadata": {},
     "output_type": "execute_result"
    },
    {
     "data": {
      "image/png": "[encoded data removed]",
      "text/plain": [
       "<Figure size 432x288 with 1 Axes>"
      ]
     },
     "metadata": {
      "needs_background": "light"
     },
     "output_type": "display_data"
    }
   ],
   "source": [
    "sn.boxplot(startups['Marketing Spend'])"
   ]
  },
  {
   "cell_type": "markdown",
   "metadata": {},
   "source": [
    "1. There are no outliers in the Marketing Spend column. \n",
    "2. The median line is at the centre of the box which means there is no skewness in the data."
   ]
  },
  {
   "cell_type": "code",
   "execution_count": 14,
   "metadata": {
    "ExecuteTime": {
     "end_time": "2021-03-04T06:37:44.322705Z",
     "start_time": "2021-03-04T06:37:44.066818Z"
    }
   },
   "outputs": [
    {
     "name": "stderr",
     "output_type": "stream",
     "text": [
      "E:\\anaconda\\lib\\site-packages\\seaborn\\_decorators.py:36: FutureWarning: Pass the following variable as a keyword arg: x. From version 0.12, the only valid positional argument will be `data`, and passing other arguments without an explicit keyword will result in an error or misinterpretation.\n",
      "  warnings.warn(\n"
     ]
    },
    {
     "data": {
      "text/plain": [
       "<AxesSubplot:xlabel='Profit'>"
      ]
     },
     "execution_count": 14,
     "metadata": {},
     "output_type": "execute_result"
    },
    {
     "data": {
      "image/png": "[encoded data removed]",
      "text/plain": [
       "<Figure size 432x288 with 1 Axes>"
      ]
     },
     "metadata": {
      "needs_background": "light"
     },
     "output_type": "display_data"
    }
   ],
   "source": [
    "sn.boxplot(startups['Profit'])"
   ]
  },
  {
   "cell_type": "markdown",
   "metadata": {},
   "source": [
    "1. There is an outliers in the Profit column. The value is less than 25,000 which means the company made once very less profit.\n",
    "2. The median line is towars the upper portion of the box which means there is positive skewness in the data."
   ]
  },
  {
   "cell_type": "markdown",
   "metadata": {},
   "source": [
    "### Pair plots"
   ]
  },
  {
   "cell_type": "code",
   "execution_count": 15,
   "metadata": {
    "ExecuteTime": {
     "end_time": "2021-03-04T06:37:51.147221Z",
     "start_time": "2021-03-04T06:37:45.883518Z"
    }
   },
   "outputs": [
    {
     "data": {
      "text/plain": [
       "<seaborn.axisgrid.PairGrid at 0x221a1737430>"
      ]
     },
     "execution_count": 15,
     "metadata": {},
     "output_type": "execute_result"
    },
    {
     "data": {
      "image/png": "[encoded data removed]",
      "text/plain": [
       "<Figure size 720x720 with 20 Axes>"
      ]
     },
     "metadata": {
      "needs_background": "light"
     },
     "output_type": "display_data"
    }
   ],
   "source": [
    "sn.pairplot(startups)"
   ]
  },
  {
   "cell_type": "code",
   "execution_count": 16,
   "metadata": {
    "ExecuteTime": {
     "end_time": "2021-03-04T06:37:51.700683Z",
     "start_time": "2021-03-04T06:37:51.1484Z"
    }
   },
   "outputs": [
    {
     "data": {
      "text/plain": [
       "<AxesSubplot:>"
      ]
     },
     "execution_count": 16,
     "metadata": {},
     "output_type": "execute_result"
    },
    {
     "data": {
      "image/png": "[encoded data removed]",
      "text/plain": [
       "<Figure size 432x288 with 2 Axes>"
      ]
     },
     "metadata": {
      "needs_background": "light"
     },
     "output_type": "display_data"
    }
   ],
   "source": [
    "sn.heatmap(startups.isnull())"
   ]
  },
  {
   "cell_type": "markdown",
   "metadata": {},
   "source": [
    "We can check missing values by using isna() method as well."
   ]
  },
  {
   "cell_type": "code",
   "execution_count": 17,
   "metadata": {
    "ExecuteTime": {
     "end_time": "2021-03-04T06:37:51.725222Z",
     "start_time": "2021-03-04T06:37:51.705767Z"
    }
   },
   "outputs": [
    {
     "data": {
      "text/plain": [
       "R&D Spend          0\n",
       "Administration     0\n",
       "Marketing Spend    0\n",
       "State              0\n",
       "Profit             0\n",
       "dtype: int64"
      ]
     },
     "execution_count": 17,
     "metadata": {},
     "output_type": "execute_result"
    }
   ],
   "source": [
    "startups.isna().sum()"
   ]
  },
  {
   "cell_type": "code",
   "execution_count": 18,
   "metadata": {
    "ExecuteTime": {
     "end_time": "2021-03-04T06:37:51.749865Z",
     "start_time": "2021-03-04T06:37:51.729441Z"
    }
   },
   "outputs": [
    {
     "data": {
      "text/plain": [
       "count             50\n",
       "unique             3\n",
       "top       California\n",
       "freq              17\n",
       "Name: State, dtype: object"
      ]
     },
     "execution_count": 18,
     "metadata": {},
     "output_type": "execute_result"
    }
   ],
   "source": [
    "startups['State'].describe()"
   ]
  },
  {
   "cell_type": "code",
   "execution_count": 19,
   "metadata": {
    "ExecuteTime": {
     "end_time": "2021-03-04T06:37:51.790194Z",
     "start_time": "2021-03-04T06:37:51.759044Z"
    }
   },
   "outputs": [
    {
     "data": {
      "text/html": [
       "<div>\n",
       "<style scoped>\n",
       "    .dataframe tbody tr th:only-of-type {\n",
       "        vertical-align: middle;\n",
       "    }\n",
       "\n",
       "    .dataframe tbody tr th {\n",
       "        vertical-align: top;\n",
       "    }\n",
       "\n",
       "    .dataframe thead th {\n",
       "        text-align: right;\n",
       "    }\n",
       "</style>\n",
       "<table border=\"1\" class=\"dataframe\">\n",
       "  <thead>\n",
       "    <tr style=\"text-align: right;\">\n",
       "      <th></th>\n",
       "      <th>R&amp;D Spend</th>\n",
       "      <th>Administration</th>\n",
       "      <th>Marketing Spend</th>\n",
       "      <th>Profit</th>\n",
       "      <th>State_California</th>\n",
       "      <th>State_Florida</th>\n",
       "      <th>State_New York</th>\n",
       "    </tr>\n",
       "  </thead>\n",
       "  <tbody>\n",
       "    <tr>\n",
       "      <th>0</th>\n",
       "      <td>165349.20</td>\n",
       "      <td>136897.80</td>\n",
       "      <td>471784.10</td>\n",
       "      <td>192261.83</td>\n",
       "      <td>0</td>\n",
       "      <td>0</td>\n",
       "      <td>1</td>\n",
       "    </tr>\n",
       "    <tr>\n",
       "      <th>1</th>\n",
       "      <td>162597.70</td>\n",
       "      <td>151377.59</td>\n",
       "      <td>443898.53</td>\n",
       "      <td>191792.06</td>\n",
       "      <td>1</td>\n",
       "      <td>0</td>\n",
       "      <td>0</td>\n",
       "    </tr>\n",
       "    <tr>\n",
       "      <th>2</th>\n",
       "      <td>153441.51</td>\n",
       "      <td>101145.55</td>\n",
       "      <td>407934.54</td>\n",
       "      <td>191050.39</td>\n",
       "      <td>0</td>\n",
       "      <td>1</td>\n",
       "      <td>0</td>\n",
       "    </tr>\n",
       "    <tr>\n",
       "      <th>3</th>\n",
       "      <td>144372.41</td>\n",
       "      <td>118671.85</td>\n",
       "      <td>383199.62</td>\n",
       "      <td>182901.99</td>\n",
       "      <td>0</td>\n",
       "      <td>0</td>\n",
       "      <td>1</td>\n",
       "    </tr>\n",
       "    <tr>\n",
       "      <th>4</th>\n",
       "      <td>142107.34</td>\n",
       "      <td>91391.77</td>\n",
       "      <td>366168.42</td>\n",
       "      <td>166187.94</td>\n",
       "      <td>0</td>\n",
       "      <td>1</td>\n",
       "      <td>0</td>\n",
       "    </tr>\n",
       "  </tbody>\n",
       "</table>\n",
       "</div>"
      ],
      "text/plain": [
       "   R&D Spend  Administration  Marketing Spend     Profit  State_California  \\\n",
       "0  165349.20       136897.80        471784.10  192261.83                 0   \n",
       "1  162597.70       151377.59        443898.53  191792.06                 1   \n",
       "2  153441.51       101145.55        407934.54  191050.39                 0   \n",
       "3  144372.41       118671.85        383199.62  182901.99                 0   \n",
       "4  142107.34        91391.77        366168.42  166187.94                 0   \n",
       "\n",
       "   State_Florida  State_New York  \n",
       "0              0               1  \n",
       "1              0               0  \n",
       "2              1               0  \n",
       "3              0               1  \n",
       "4              1               0  "
      ]
     },
     "execution_count": 19,
     "metadata": {},
     "output_type": "execute_result"
    }
   ],
   "source": [
    "startups = pd.get_dummies(startups, columns=['State'])\n",
    "startups.head()"
   ]
  },
  {
   "cell_type": "code",
   "execution_count": 20,
   "metadata": {
    "ExecuteTime": {
     "end_time": "2021-03-04T06:37:52.932756Z",
     "start_time": "2021-03-04T06:37:51.792869Z"
    }
   },
   "outputs": [
    {
     "data": {
      "text/plain": [
       "<AxesSubplot:>"
      ]
     },
     "execution_count": 20,
     "metadata": {},
     "output_type": "execute_result"
    },
    {
     "data": {
      "image/png": "[encoded data removed]",
      "text/plain": [
       "<Figure size 576x288 with 2 Axes>"
      ]
     },
     "metadata": {
      "needs_background": "light"
     },
     "output_type": "display_data"
    }
   ],
   "source": [
    "plt.figure(figsize=(8,4))\n",
    "sn.heatmap(startups.corr(),annot = True)"
   ]
  },
  {
   "cell_type": "code",
   "execution_count": 21,
   "metadata": {
    "ExecuteTime": {
     "end_time": "2021-03-04T06:37:52.975026Z",
     "start_time": "2021-03-04T06:37:52.937279Z"
    }
   },
   "outputs": [
    {
     "data": {
      "text/html": [
       "<div>\n",
       "<style scoped>\n",
       "    .dataframe tbody tr th:only-of-type {\n",
       "        vertical-align: middle;\n",
       "    }\n",
       "\n",
       "    .dataframe tbody tr th {\n",
       "        vertical-align: top;\n",
       "    }\n",
       "\n",
       "    .dataframe thead th {\n",
       "        text-align: right;\n",
       "    }\n",
       "</style>\n",
       "<table border=\"1\" class=\"dataframe\">\n",
       "  <thead>\n",
       "    <tr style=\"text-align: right;\">\n",
       "      <th></th>\n",
       "      <th>R&amp;D Spend</th>\n",
       "      <th>Administration</th>\n",
       "      <th>Marketing Spend</th>\n",
       "      <th>Profit</th>\n",
       "      <th>State_California</th>\n",
       "      <th>State_Florida</th>\n",
       "      <th>State_New York</th>\n",
       "    </tr>\n",
       "  </thead>\n",
       "  <tbody>\n",
       "    <tr>\n",
       "      <th>R&amp;D Spend</th>\n",
       "      <td>1.000000</td>\n",
       "      <td>0.241955</td>\n",
       "      <td>0.724248</td>\n",
       "      <td>0.972900</td>\n",
       "      <td>-0.143165</td>\n",
       "      <td>0.105711</td>\n",
       "      <td>0.039068</td>\n",
       "    </tr>\n",
       "    <tr>\n",
       "      <th>Administration</th>\n",
       "      <td>0.241955</td>\n",
       "      <td>1.000000</td>\n",
       "      <td>-0.032154</td>\n",
       "      <td>0.200717</td>\n",
       "      <td>-0.015478</td>\n",
       "      <td>0.010493</td>\n",
       "      <td>0.005145</td>\n",
       "    </tr>\n",
       "    <tr>\n",
       "      <th>Marketing Spend</th>\n",
       "      <td>0.724248</td>\n",
       "      <td>-0.032154</td>\n",
       "      <td>1.000000</td>\n",
       "      <td>0.747766</td>\n",
       "      <td>-0.168875</td>\n",
       "      <td>0.205685</td>\n",
       "      <td>-0.033670</td>\n",
       "    </tr>\n",
       "    <tr>\n",
       "      <th>Profit</th>\n",
       "      <td>0.972900</td>\n",
       "      <td>0.200717</td>\n",
       "      <td>0.747766</td>\n",
       "      <td>1.000000</td>\n",
       "      <td>-0.145837</td>\n",
       "      <td>0.116244</td>\n",
       "      <td>0.031368</td>\n",
       "    </tr>\n",
       "    <tr>\n",
       "      <th>State_California</th>\n",
       "      <td>-0.143165</td>\n",
       "      <td>-0.015478</td>\n",
       "      <td>-0.168875</td>\n",
       "      <td>-0.145837</td>\n",
       "      <td>1.000000</td>\n",
       "      <td>-0.492366</td>\n",
       "      <td>-0.515152</td>\n",
       "    </tr>\n",
       "    <tr>\n",
       "      <th>State_Florida</th>\n",
       "      <td>0.105711</td>\n",
       "      <td>0.010493</td>\n",
       "      <td>0.205685</td>\n",
       "      <td>0.116244</td>\n",
       "      <td>-0.492366</td>\n",
       "      <td>1.000000</td>\n",
       "      <td>-0.492366</td>\n",
       "    </tr>\n",
       "    <tr>\n",
       "      <th>State_New York</th>\n",
       "      <td>0.039068</td>\n",
       "      <td>0.005145</td>\n",
       "      <td>-0.033670</td>\n",
       "      <td>0.031368</td>\n",
       "      <td>-0.515152</td>\n",
       "      <td>-0.492366</td>\n",
       "      <td>1.000000</td>\n",
       "    </tr>\n",
       "  </tbody>\n",
       "</table>\n",
       "</div>"
      ],
      "text/plain": [
       "                  R&D Spend  Administration  Marketing Spend    Profit  \\\n",
       "R&D Spend          1.000000        0.241955         0.724248  0.972900   \n",
       "Administration     0.241955        1.000000        -0.032154  0.200717   \n",
       "Marketing Spend    0.724248       -0.032154         1.000000  0.747766   \n",
       "Profit             0.972900        0.200717         0.747766  1.000000   \n",
       "State_California  -0.143165       -0.015478        -0.168875 -0.145837   \n",
       "State_Florida      0.105711        0.010493         0.205685  0.116244   \n",
       "State_New York     0.039068        0.005145        -0.033670  0.031368   \n",
       "\n",
       "                  State_California  State_Florida  State_New York  \n",
       "R&D Spend                -0.143165       0.105711        0.039068  \n",
       "Administration           -0.015478       0.010493        0.005145  \n",
       "Marketing Spend          -0.168875       0.205685       -0.033670  \n",
       "Profit                   -0.145837       0.116244        0.031368  \n",
       "State_California          1.000000      -0.492366       -0.515152  \n",
       "State_Florida            -0.492366       1.000000       -0.492366  \n",
       "State_New York           -0.515152      -0.492366        1.000000  "
      ]
     },
     "execution_count": 21,
     "metadata": {},
     "output_type": "execute_result"
    }
   ],
   "source": [
    "startups.corr()"
   ]
  },
  {
   "cell_type": "code",
   "execution_count": 22,
   "metadata": {
    "ExecuteTime": {
     "end_time": "2021-03-04T06:40:16.737038Z",
     "start_time": "2021-03-04T06:40:16.724829Z"
    }
   },
   "outputs": [],
   "source": [
    "startups.rename(columns={'Marketing Spend':'Marketing'},inplace=True)"
   ]
  },
  {
   "cell_type": "code",
   "execution_count": 23,
   "metadata": {
    "ExecuteTime": {
     "end_time": "2021-03-04T06:40:20.389313Z",
     "start_time": "2021-03-04T06:40:20.37213Z"
    }
   },
   "outputs": [],
   "source": [
    "startups.rename(columns={'R&D Spend':'RD'},inplace=True)"
   ]
  },
  {
   "cell_type": "code",
   "execution_count": 24,
   "metadata": {
    "ExecuteTime": {
     "end_time": "2021-03-04T06:40:21.286508Z",
     "start_time": "2021-03-04T06:40:21.270347Z"
    }
   },
   "outputs": [],
   "source": [
    "startups.rename(columns={'State_New York':'State_NewYork'},inplace=True)"
   ]
  },
  {
   "cell_type": "code",
   "execution_count": 25,
   "metadata": {
    "ExecuteTime": {
     "end_time": "2021-03-04T06:40:26.718411Z",
     "start_time": "2021-03-04T06:40:26.678154Z"
    }
   },
   "outputs": [
    {
     "data": {
      "text/html": [
       "<div>\n",
       "<style scoped>\n",
       "    .dataframe tbody tr th:only-of-type {\n",
       "        vertical-align: middle;\n",
       "    }\n",
       "\n",
       "    .dataframe tbody tr th {\n",
       "        vertical-align: top;\n",
       "    }\n",
       "\n",
       "    .dataframe thead th {\n",
       "        text-align: right;\n",
       "    }\n",
       "</style>\n",
       "<table border=\"1\" class=\"dataframe\">\n",
       "  <thead>\n",
       "    <tr style=\"text-align: right;\">\n",
       "      <th></th>\n",
       "      <th>RD</th>\n",
       "      <th>Administration</th>\n",
       "      <th>Marketing</th>\n",
       "      <th>Profit</th>\n",
       "      <th>State_California</th>\n",
       "      <th>State_Florida</th>\n",
       "      <th>State_NewYork</th>\n",
       "    </tr>\n",
       "  </thead>\n",
       "  <tbody>\n",
       "    <tr>\n",
       "      <th>0</th>\n",
       "      <td>165349.20</td>\n",
       "      <td>136897.80</td>\n",
       "      <td>471784.10</td>\n",
       "      <td>192261.83</td>\n",
       "      <td>0</td>\n",
       "      <td>0</td>\n",
       "      <td>1</td>\n",
       "    </tr>\n",
       "    <tr>\n",
       "      <th>1</th>\n",
       "      <td>162597.70</td>\n",
       "      <td>151377.59</td>\n",
       "      <td>443898.53</td>\n",
       "      <td>191792.06</td>\n",
       "      <td>1</td>\n",
       "      <td>0</td>\n",
       "      <td>0</td>\n",
       "    </tr>\n",
       "    <tr>\n",
       "      <th>2</th>\n",
       "      <td>153441.51</td>\n",
       "      <td>101145.55</td>\n",
       "      <td>407934.54</td>\n",
       "      <td>191050.39</td>\n",
       "      <td>0</td>\n",
       "      <td>1</td>\n",
       "      <td>0</td>\n",
       "    </tr>\n",
       "    <tr>\n",
       "      <th>3</th>\n",
       "      <td>144372.41</td>\n",
       "      <td>118671.85</td>\n",
       "      <td>383199.62</td>\n",
       "      <td>182901.99</td>\n",
       "      <td>0</td>\n",
       "      <td>0</td>\n",
       "      <td>1</td>\n",
       "    </tr>\n",
       "    <tr>\n",
       "      <th>4</th>\n",
       "      <td>142107.34</td>\n",
       "      <td>91391.77</td>\n",
       "      <td>366168.42</td>\n",
       "      <td>166187.94</td>\n",
       "      <td>0</td>\n",
       "      <td>1</td>\n",
       "      <td>0</td>\n",
       "    </tr>\n",
       "  </tbody>\n",
       "</table>\n",
       "</div>"
      ],
      "text/plain": [
       "          RD  Administration  Marketing     Profit  State_California  \\\n",
       "0  165349.20       136897.80  471784.10  192261.83                 0   \n",
       "1  162597.70       151377.59  443898.53  191792.06                 1   \n",
       "2  153441.51       101145.55  407934.54  191050.39                 0   \n",
       "3  144372.41       118671.85  383199.62  182901.99                 0   \n",
       "4  142107.34        91391.77  366168.42  166187.94                 0   \n",
       "\n",
       "   State_Florida  State_NewYork  \n",
       "0              0              1  \n",
       "1              0              0  \n",
       "2              1              0  \n",
       "3              0              1  \n",
       "4              1              0  "
      ]
     },
     "execution_count": 25,
     "metadata": {},
     "output_type": "execute_result"
    }
   ],
   "source": [
    "startups.head()"
   ]
  },
  {
   "cell_type": "markdown",
   "metadata": {},
   "source": [
    "##### We need to standardize our data as we have used One Hot encoding technique and changed State variable. The scale is very different for States and the other variables so we will use Standard Scaler technique for standardizing the other variables"
   ]
  },
  {
   "cell_type": "code",
   "execution_count": 26,
   "metadata": {},
   "outputs": [],
   "source": [
    "startup_std = startups.copy()"
   ]
  },
  {
   "cell_type": "code",
   "execution_count": 27,
   "metadata": {},
   "outputs": [],
   "source": [
    "col_names = ['RD', 'Administration','Marketing','State_California','State_Florida','State_NewYork']\n",
    "features = startup_std[col_names]\n",
    "scaler = StandardScaler().fit(features.values)\n",
    "features = scaler.transform(features.values)"
   ]
  },
  {
   "cell_type": "code",
   "execution_count": 28,
   "metadata": {},
   "outputs": [
    {
     "name": "stdout",
     "output_type": "stream",
     "text": [
      "          RD  Administration  Marketing     Profit  State_California  \\\n",
      "0   2.016411        0.560753   2.153943  192261.83         -0.717741   \n",
      "1   1.955860        1.082807   1.923600  191792.06          1.393261   \n",
      "2   1.754364       -0.728257   1.626528  191050.39         -0.717741   \n",
      "3   1.554784       -0.096365   1.422210  182901.99         -0.717741   \n",
      "4   1.504937       -1.079919   1.281528  166187.94         -0.717741   \n",
      "5   1.279800       -0.776239   1.254210  156991.12         -0.717741   \n",
      "6   1.340066        0.932147  -0.688150  156122.51          1.393261   \n",
      "7   1.245057        0.871980   0.932186  155752.60         -0.717741   \n",
      "8   1.030369        0.986952   0.830887  152211.77         -0.717741   \n",
      "9   1.091819       -0.456640   0.776107  149759.96          1.393261   \n",
      "10  0.620398       -0.387599   0.149807  146121.95         -0.717741   \n",
      "11  0.593085       -1.065540   0.319834  144259.40          1.393261   \n",
      "12  0.443260        0.215449   0.320617  141585.52         -0.717741   \n",
      "13  0.402078        0.510179   0.343957  134307.35          1.393261   \n",
      "14  1.017181        1.269199   0.375742  132602.65         -0.717741   \n",
      "15  0.897913        0.045868   0.419219  129917.04         -0.717741   \n",
      "16  0.094441        0.009118   0.440446  126992.93          1.393261   \n",
      "17  0.460720        0.855666   0.591017  125370.37         -0.717741   \n",
      "18  0.396725       -0.258465   0.692992  124266.90         -0.717741   \n",
      "19  0.279442        1.159837  -1.743127  122776.86         -0.717741   \n",
      "20  0.055726       -0.269588   0.723926  118474.03          1.393261   \n",
      "21  0.102724        1.169186   0.732788  111313.02         -0.717741   \n",
      "22  0.006007        0.051850   0.762376  110352.25         -0.717741   \n",
      "23 -0.136201       -0.562211   0.774349  108733.99         -0.717741   \n",
      "24  0.073115       -0.795469  -0.581939  108552.04         -0.717741   \n",
      "25 -0.199312        0.656489  -0.603517  107404.34          1.393261   \n",
      "26  0.035370        0.821718  -0.635835  105733.54         -0.717741   \n",
      "27 -0.035519        0.235069   1.174271  105008.31         -0.717741   \n",
      "28 -0.168793        2.210141  -0.767189  103282.38         -0.717741   \n",
      "29 -0.178609        1.142457  -0.858134  101004.64         -0.717741   \n",
      "30 -0.258074       -0.205629  -0.990357   99937.59         -0.717741   \n",
      "31 -0.276958        1.130554  -1.014419   97483.56         -0.717741   \n",
      "32 -0.226949        0.283924  -1.362450   97427.84          1.393261   \n",
      "33 -0.401129       -0.659324   0.029817   96778.92         -0.717741   \n",
      "34 -0.600682        1.310535  -0.001879   96712.80          1.393261   \n",
      "35 -0.609750       -1.308658  -0.045493   96479.51         -0.717741   \n",
      "36 -0.991570        0.205925  -0.081763   90708.19         -0.717741   \n",
      "37 -0.652532       -2.525994  -0.115608   89949.14          1.393261   \n",
      "38 -1.177178       -1.997270  -0.212785   81229.06         -0.717741   \n",
      "39 -0.773820       -1.383122  -0.297583   81005.76          1.393261   \n",
      "40 -0.989577       -0.100900  -0.315786   78239.91          1.393261   \n",
      "41 -1.008534       -1.320796  -0.384552   77798.83         -0.717741   \n",
      "42 -1.102106       -0.906938  -0.520596   71498.49          1.393261   \n",
      "43 -1.281134        0.217682  -1.449605   69758.98         -0.717741   \n",
      "44 -1.134305        1.206419  -1.509074   65200.33          1.393261   \n",
      "45 -1.600350        0.101254  -1.727400   64926.08         -0.717741   \n",
      "46 -1.593413       -0.199322   0.711122   49490.75         -0.717741   \n",
      "47 -1.622362        0.507722  -1.743127   42559.73          1.393261   \n",
      "48 -1.610433       -2.509409  -1.743127   35673.41         -0.717741   \n",
      "49 -1.622362       -0.157226  -1.369985   14681.40          1.393261   \n",
      "\n",
      "    State_Florida  State_NewYork  \n",
      "0       -0.685994       1.393261  \n",
      "1       -0.685994      -0.717741  \n",
      "2        1.457738      -0.717741  \n",
      "3       -0.685994       1.393261  \n",
      "4        1.457738      -0.717741  \n",
      "5       -0.685994       1.393261  \n",
      "6       -0.685994      -0.717741  \n",
      "7        1.457738      -0.717741  \n",
      "8       -0.685994       1.393261  \n",
      "9       -0.685994      -0.717741  \n",
      "10       1.457738      -0.717741  \n",
      "11      -0.685994      -0.717741  \n",
      "12       1.457738      -0.717741  \n",
      "13      -0.685994      -0.717741  \n",
      "14       1.457738      -0.717741  \n",
      "15      -0.685994       1.393261  \n",
      "16      -0.685994      -0.717741  \n",
      "17      -0.685994       1.393261  \n",
      "18       1.457738      -0.717741  \n",
      "19      -0.685994       1.393261  \n",
      "20      -0.685994      -0.717741  \n",
      "21      -0.685994       1.393261  \n",
      "22       1.457738      -0.717741  \n",
      "23       1.457738      -0.717741  \n",
      "24      -0.685994       1.393261  \n",
      "25      -0.685994      -0.717741  \n",
      "26       1.457738      -0.717741  \n",
      "27      -0.685994       1.393261  \n",
      "28       1.457738      -0.717741  \n",
      "29      -0.685994       1.393261  \n",
      "30       1.457738      -0.717741  \n",
      "31      -0.685994       1.393261  \n",
      "32      -0.685994      -0.717741  \n",
      "33       1.457738      -0.717741  \n",
      "34      -0.685994      -0.717741  \n",
      "35      -0.685994       1.393261  \n",
      "36       1.457738      -0.717741  \n",
      "37      -0.685994      -0.717741  \n",
      "38      -0.685994       1.393261  \n",
      "39      -0.685994      -0.717741  \n",
      "40      -0.685994      -0.717741  \n",
      "41       1.457738      -0.717741  \n",
      "42      -0.685994      -0.717741  \n",
      "43      -0.685994       1.393261  \n",
      "44      -0.685994      -0.717741  \n",
      "45      -0.685994       1.393261  \n",
      "46       1.457738      -0.717741  \n",
      "47      -0.685994      -0.717741  \n",
      "48      -0.685994       1.393261  \n",
      "49      -0.685994      -0.717741  \n"
     ]
    }
   ],
   "source": [
    "startup_std[col_names] = features\n",
    "print(startup_std)"
   ]
  },
  {
   "cell_type": "code",
   "execution_count": 29,
   "metadata": {
    "ExecuteTime": {
     "end_time": "2021-03-04T06:40:52.745751Z",
     "start_time": "2021-03-04T06:40:52.686077Z"
    }
   },
   "outputs": [],
   "source": [
    "#fitting linear regression model\n",
    "model = smf.ols('Profit~RD+Administration+Marketing+State_California+State_Florida+State_NewYork',data=startup_std).fit()"
   ]
  },
  {
   "cell_type": "code",
   "execution_count": 30,
   "metadata": {
    "ExecuteTime": {
     "end_time": "2021-03-04T06:40:55.544903Z",
     "start_time": "2021-03-04T06:40:55.51875Z"
    }
   },
   "outputs": [
    {
     "data": {
      "text/plain": [
       "Intercept           112012.639200\n",
       "RD                   36626.428252\n",
       "Administration        -748.997469\n",
       "Marketing             3266.215194\n",
       "State_California       -24.067160\n",
       "State_Florida           69.030531\n",
       "State_NewYork          -43.909408\n",
       "dtype: float64"
      ]
     },
     "execution_count": 30,
     "metadata": {},
     "output_type": "execute_result"
    }
   ],
   "source": [
    "model.params"
   ]
  },
  {
   "cell_type": "code",
   "execution_count": 31,
   "metadata": {
    "ExecuteTime": {
     "end_time": "2021-03-04T06:41:10.207117Z",
     "start_time": "2021-03-04T06:41:10.182967Z"
    }
   },
   "outputs": [
    {
     "name": "stdout",
     "output_type": "stream",
     "text": [
      "Intercept           83.910541\n",
      "RD                  17.368580\n",
      "Administration      -0.517012\n",
      "Marketing            1.573889\n",
      "State_California    -0.026765\n",
      "State_Florida        0.074905\n",
      "State_NewYork       -0.049316\n",
      "dtype: float64 \n",
      " Intercept           3.369385e-50\n",
      "RD                  2.578772e-21\n",
      "Administration      6.077373e-01\n",
      "Marketing           1.226769e-01\n",
      "State_California    9.787681e-01\n",
      "State_Florida       9.406301e-01\n",
      "State_NewYork       9.608905e-01\n",
      "dtype: float64\n"
     ]
    }
   ],
   "source": [
    "print(model.tvalues, '\\n', model.pvalues) "
   ]
  },
  {
   "cell_type": "code",
   "execution_count": 32,
   "metadata": {
    "ExecuteTime": {
     "end_time": "2021-03-04T06:41:16.411917Z",
     "start_time": "2021-03-04T06:41:16.387912Z"
    }
   },
   "outputs": [
    {
     "data": {
      "text/plain": [
       "(0.9507524843355148, 0.945156175737278)"
      ]
     },
     "execution_count": 32,
     "metadata": {},
     "output_type": "execute_result"
    }
   ],
   "source": [
    "(model.rsquared,model.rsquared_adj)"
   ]
  },
  {
   "cell_type": "code",
   "execution_count": 33,
   "metadata": {
    "ExecuteTime": {
     "end_time": "2021-03-04T06:41:19.419137Z",
     "start_time": "2021-03-04T06:41:19.352628Z"
    }
   },
   "outputs": [
    {
     "data": {
      "text/html": [
       "<table class=\"simpletable\">\n",
       "<caption>OLS Regression Results</caption>\n",
       "<tr>\n",
       "  <th>Dep. Variable:</th>         <td>Profit</td>      <th>  R-squared:         </th> <td>   0.951</td>\n",
       "</tr>\n",
       "<tr>\n",
       "  <th>Model:</th>                   <td>OLS</td>       <th>  Adj. R-squared:    </th> <td>   0.945</td>\n",
       "</tr>\n",
       "<tr>\n",
       "  <th>Method:</th>             <td>Least Squares</td>  <th>  F-statistic:       </th> <td>   169.9</td>\n",
       "</tr>\n",
       "<tr>\n",
       "  <th>Date:</th>             <td>Thu, 06 May 2021</td> <th>  Prob (F-statistic):</th> <td>1.34e-27</td>\n",
       "</tr>\n",
       "<tr>\n",
       "  <th>Time:</th>                 <td>23:28:18</td>     <th>  Log-Likelihood:    </th> <td> -525.38</td>\n",
       "</tr>\n",
       "<tr>\n",
       "  <th>No. Observations:</th>      <td>    50</td>      <th>  AIC:               </th> <td>   1063.</td>\n",
       "</tr>\n",
       "<tr>\n",
       "  <th>Df Residuals:</th>          <td>    44</td>      <th>  BIC:               </th> <td>   1074.</td>\n",
       "</tr>\n",
       "<tr>\n",
       "  <th>Df Model:</th>              <td>     5</td>      <th>                     </th>     <td> </td>   \n",
       "</tr>\n",
       "<tr>\n",
       "  <th>Covariance Type:</th>      <td>nonrobust</td>    <th>                     </th>     <td> </td>   \n",
       "</tr>\n",
       "</table>\n",
       "<table class=\"simpletable\">\n",
       "<tr>\n",
       "          <td></td>            <th>coef</th>     <th>std err</th>      <th>t</th>      <th>P>|t|</th>  <th>[0.025</th>    <th>0.975]</th>  \n",
       "</tr>\n",
       "<tr>\n",
       "  <th>Intercept</th>        <td>  1.12e+05</td> <td> 1334.905</td> <td>   83.911</td> <td> 0.000</td> <td> 1.09e+05</td> <td> 1.15e+05</td>\n",
       "</tr>\n",
       "<tr>\n",
       "  <th>RD</th>               <td> 3.663e+04</td> <td> 2108.775</td> <td>   17.369</td> <td> 0.000</td> <td> 3.24e+04</td> <td> 4.09e+04</td>\n",
       "</tr>\n",
       "<tr>\n",
       "  <th>Administration</th>   <td> -748.9975</td> <td> 1448.705</td> <td>   -0.517</td> <td> 0.608</td> <td>-3668.671</td> <td> 2170.676</td>\n",
       "</tr>\n",
       "<tr>\n",
       "  <th>Marketing</th>        <td> 3266.2152</td> <td> 2075.251</td> <td>    1.574</td> <td> 0.123</td> <td> -916.178</td> <td> 7448.608</td>\n",
       "</tr>\n",
       "<tr>\n",
       "  <th>State_California</th> <td>  -24.0672</td> <td>  899.198</td> <td>   -0.027</td> <td> 0.979</td> <td>-1836.281</td> <td> 1788.147</td>\n",
       "</tr>\n",
       "<tr>\n",
       "  <th>State_Florida</th>    <td>   69.0305</td> <td>  921.579</td> <td>    0.075</td> <td> 0.941</td> <td>-1788.289</td> <td> 1926.350</td>\n",
       "</tr>\n",
       "<tr>\n",
       "  <th>State_NewYork</th>    <td>  -43.9094</td> <td>  890.365</td> <td>   -0.049</td> <td> 0.961</td> <td>-1838.322</td> <td> 1750.503</td>\n",
       "</tr>\n",
       "</table>\n",
       "<table class=\"simpletable\">\n",
       "<tr>\n",
       "  <th>Omnibus:</th>       <td>14.782</td> <th>  Durbin-Watson:     </th> <td>   1.283</td>\n",
       "</tr>\n",
       "<tr>\n",
       "  <th>Prob(Omnibus):</th> <td> 0.001</td> <th>  Jarque-Bera (JB):  </th> <td>  21.266</td>\n",
       "</tr>\n",
       "<tr>\n",
       "  <th>Skew:</th>          <td>-0.948</td> <th>  Prob(JB):          </th> <td>2.41e-05</td>\n",
       "</tr>\n",
       "<tr>\n",
       "  <th>Kurtosis:</th>      <td> 5.572</td> <th>  Cond. No.          </th> <td>1.21e+16</td>\n",
       "</tr>\n",
       "</table><br/><br/>Notes:<br/>[1] Standard Errors assume that the covariance matrix of the errors is correctly specified.<br/>[2] The smallest eigenvalue is 6.69e-31. This might indicate that there are<br/>strong multicollinearity problems or that the design matrix is singular."
      ],
      "text/plain": [
       "<class 'statsmodels.iolib.summary.Summary'>\n",
       "\"\"\"\n",
       "                            OLS Regression Results                            \n",
       "==============================================================================\n",
       "Dep. Variable:                 Profit   R-squared:                       0.951\n",
       "Model:                            OLS   Adj. R-squared:                  0.945\n",
       "Method:                 Least Squares   F-statistic:                     169.9\n",
       "Date:                Thu, 06 May 2021   Prob (F-statistic):           1.34e-27\n",
       "Time:                        23:28:18   Log-Likelihood:                -525.38\n",
       "No. Observations:                  50   AIC:                             1063.\n",
       "Df Residuals:                      44   BIC:                             1074.\n",
       "Df Model:                           5                                         \n",
       "Covariance Type:            nonrobust                                         \n",
       "====================================================================================\n",
       "                       coef    std err          t      P>|t|      [0.025      0.975]\n",
       "------------------------------------------------------------------------------------\n",
       "Intercept          1.12e+05   1334.905     83.911      0.000    1.09e+05    1.15e+05\n",
       "RD                3.663e+04   2108.775     17.369      0.000    3.24e+04    4.09e+04\n",
       "Administration    -748.9975   1448.705     -0.517      0.608   -3668.671    2170.676\n",
       "Marketing         3266.2152   2075.251      1.574      0.123    -916.178    7448.608\n",
       "State_California   -24.0672    899.198     -0.027      0.979   -1836.281    1788.147\n",
       "State_Florida       69.0305    921.579      0.075      0.941   -1788.289    1926.350\n",
       "State_NewYork      -43.9094    890.365     -0.049      0.961   -1838.322    1750.503\n",
       "==============================================================================\n",
       "Omnibus:                       14.782   Durbin-Watson:                   1.283\n",
       "Prob(Omnibus):                  0.001   Jarque-Bera (JB):               21.266\n",
       "Skew:                          -0.948   Prob(JB):                     2.41e-05\n",
       "Kurtosis:                       5.572   Cond. No.                     1.21e+16\n",
       "==============================================================================\n",
       "\n",
       "Notes:\n",
       "[1] Standard Errors assume that the covariance matrix of the errors is correctly specified.\n",
       "[2] The smallest eigenvalue is 6.69e-31. This might indicate that there are\n",
       "strong multicollinearity problems or that the design matrix is singular.\n",
       "\"\"\""
      ]
     },
     "execution_count": 33,
     "metadata": {},
     "output_type": "execute_result"
    }
   ],
   "source": [
    "model.summary()"
   ]
  },
  {
   "cell_type": "markdown",
   "metadata": {},
   "source": [
    "##### If we observe the p values in above table, we can see that the p values are more than 0.05 for Administration, Marketing, State_California, State_Florida and State_NewYork as well.\n",
    "\n",
    "##### We need to check how these variables individually affect Profit value. So we will build a Simple Linear Regression model for each variable and check the p values"
   ]
  },
  {
   "cell_type": "code",
   "execution_count": 34,
   "metadata": {
    "ExecuteTime": {
     "end_time": "2021-03-04T06:41:35.687906Z",
     "start_time": "2021-03-04T06:41:35.654815Z"
    }
   },
   "outputs": [],
   "source": [
    "#Simple Linear Regression between Profit and Administration\n",
    "model_ad = smf.ols('Profit~Administration',data=startup_std).fit()"
   ]
  },
  {
   "cell_type": "code",
   "execution_count": 35,
   "metadata": {
    "ExecuteTime": {
     "end_time": "2021-03-04T06:41:36.776142Z",
     "start_time": "2021-03-04T06:41:36.75464Z"
    }
   },
   "outputs": [
    {
     "data": {
      "text/html": [
       "<table class=\"simpletable\">\n",
       "<caption>OLS Regression Results</caption>\n",
       "<tr>\n",
       "  <th>Dep. Variable:</th>         <td>Profit</td>      <th>  R-squared:         </th> <td>   0.040</td>\n",
       "</tr>\n",
       "<tr>\n",
       "  <th>Model:</th>                   <td>OLS</td>       <th>  Adj. R-squared:    </th> <td>   0.020</td>\n",
       "</tr>\n",
       "<tr>\n",
       "  <th>Method:</th>             <td>Least Squares</td>  <th>  F-statistic:       </th> <td>   2.015</td>\n",
       "</tr>\n",
       "<tr>\n",
       "  <th>Date:</th>             <td>Thu, 06 May 2021</td> <th>  Prob (F-statistic):</th>  <td> 0.162</td> \n",
       "</tr>\n",
       "<tr>\n",
       "  <th>Time:</th>                 <td>23:28:18</td>     <th>  Log-Likelihood:    </th> <td> -599.63</td>\n",
       "</tr>\n",
       "<tr>\n",
       "  <th>No. Observations:</th>      <td>    50</td>      <th>  AIC:               </th> <td>   1203.</td>\n",
       "</tr>\n",
       "<tr>\n",
       "  <th>Df Residuals:</th>          <td>    48</td>      <th>  BIC:               </th> <td>   1207.</td>\n",
       "</tr>\n",
       "<tr>\n",
       "  <th>Df Model:</th>              <td>     1</td>      <th>                     </th>     <td> </td>   \n",
       "</tr>\n",
       "<tr>\n",
       "  <th>Covariance Type:</th>      <td>nonrobust</td>    <th>                     </th>     <td> </td>   \n",
       "</tr>\n",
       "</table>\n",
       "<table class=\"simpletable\">\n",
       "<tr>\n",
       "         <td></td>           <th>coef</th>     <th>std err</th>      <th>t</th>      <th>P>|t|</th>  <th>[0.025</th>    <th>0.975]</th>  \n",
       "</tr>\n",
       "<tr>\n",
       "  <th>Intercept</th>      <td>  1.12e+05</td> <td> 5642.021</td> <td>   19.853</td> <td> 0.000</td> <td> 1.01e+05</td> <td> 1.23e+05</td>\n",
       "</tr>\n",
       "<tr>\n",
       "  <th>Administration</th> <td> 8008.8084</td> <td> 5642.021</td> <td>    1.419</td> <td> 0.162</td> <td>-3335.236</td> <td> 1.94e+04</td>\n",
       "</tr>\n",
       "</table>\n",
       "<table class=\"simpletable\">\n",
       "<tr>\n",
       "  <th>Omnibus:</th>       <td> 0.126</td> <th>  Durbin-Watson:     </th> <td>   0.099</td>\n",
       "</tr>\n",
       "<tr>\n",
       "  <th>Prob(Omnibus):</th> <td> 0.939</td> <th>  Jarque-Bera (JB):  </th> <td>   0.110</td>\n",
       "</tr>\n",
       "<tr>\n",
       "  <th>Skew:</th>          <td> 0.093</td> <th>  Prob(JB):          </th> <td>   0.947</td>\n",
       "</tr>\n",
       "<tr>\n",
       "  <th>Kurtosis:</th>      <td> 2.866</td> <th>  Cond. No.          </th> <td>    1.00</td>\n",
       "</tr>\n",
       "</table><br/><br/>Notes:<br/>[1] Standard Errors assume that the covariance matrix of the errors is correctly specified."
      ],
      "text/plain": [
       "<class 'statsmodels.iolib.summary.Summary'>\n",
       "\"\"\"\n",
       "                            OLS Regression Results                            \n",
       "==============================================================================\n",
       "Dep. Variable:                 Profit   R-squared:                       0.040\n",
       "Model:                            OLS   Adj. R-squared:                  0.020\n",
       "Method:                 Least Squares   F-statistic:                     2.015\n",
       "Date:                Thu, 06 May 2021   Prob (F-statistic):              0.162\n",
       "Time:                        23:28:18   Log-Likelihood:                -599.63\n",
       "No. Observations:                  50   AIC:                             1203.\n",
       "Df Residuals:                      48   BIC:                             1207.\n",
       "Df Model:                           1                                         \n",
       "Covariance Type:            nonrobust                                         \n",
       "==================================================================================\n",
       "                     coef    std err          t      P>|t|      [0.025      0.975]\n",
       "----------------------------------------------------------------------------------\n",
       "Intercept        1.12e+05   5642.021     19.853      0.000    1.01e+05    1.23e+05\n",
       "Administration  8008.8084   5642.021      1.419      0.162   -3335.236    1.94e+04\n",
       "==============================================================================\n",
       "Omnibus:                        0.126   Durbin-Watson:                   0.099\n",
       "Prob(Omnibus):                  0.939   Jarque-Bera (JB):                0.110\n",
       "Skew:                           0.093   Prob(JB):                        0.947\n",
       "Kurtosis:                       2.866   Cond. No.                         1.00\n",
       "==============================================================================\n",
       "\n",
       "Notes:\n",
       "[1] Standard Errors assume that the covariance matrix of the errors is correctly specified.\n",
       "\"\"\""
      ]
     },
     "execution_count": 35,
     "metadata": {},
     "output_type": "execute_result"
    }
   ],
   "source": [
    "model_ad.summary()"
   ]
  },
  {
   "cell_type": "markdown",
   "metadata": {},
   "source": [
    "##### The p value is 0.162 which is greater than 0.05 and we also saw correlation value between Profit and Administration is very less which is 0.2.\n",
    "\n",
    "##### We can say that the Administration variable is not important in predicting the Profit values"
   ]
  },
  {
   "cell_type": "code",
   "execution_count": 36,
   "metadata": {
    "ExecuteTime": {
     "end_time": "2021-03-04T06:42:01.2536Z",
     "start_time": "2021-03-04T06:42:01.222371Z"
    }
   },
   "outputs": [],
   "source": [
    "#Simple Linear Regression between Profit and Marketing Spend\n",
    "model_mkt = smf.ols('Profit~Marketing',data=startup_std).fit()"
   ]
  },
  {
   "cell_type": "code",
   "execution_count": 37,
   "metadata": {
    "ExecuteTime": {
     "end_time": "2021-03-04T06:42:02.749801Z",
     "start_time": "2021-03-04T06:42:02.702744Z"
    }
   },
   "outputs": [
    {
     "data": {
      "text/html": [
       "<table class=\"simpletable\">\n",
       "<caption>OLS Regression Results</caption>\n",
       "<tr>\n",
       "  <th>Dep. Variable:</th>         <td>Profit</td>      <th>  R-squared:         </th> <td>   0.559</td>\n",
       "</tr>\n",
       "<tr>\n",
       "  <th>Model:</th>                   <td>OLS</td>       <th>  Adj. R-squared:    </th> <td>   0.550</td>\n",
       "</tr>\n",
       "<tr>\n",
       "  <th>Method:</th>             <td>Least Squares</td>  <th>  F-statistic:       </th> <td>   60.88</td>\n",
       "</tr>\n",
       "<tr>\n",
       "  <th>Date:</th>             <td>Thu, 06 May 2021</td> <th>  Prob (F-statistic):</th> <td>4.38e-10</td>\n",
       "</tr>\n",
       "<tr>\n",
       "  <th>Time:</th>                 <td>23:28:18</td>     <th>  Log-Likelihood:    </th> <td> -580.18</td>\n",
       "</tr>\n",
       "<tr>\n",
       "  <th>No. Observations:</th>      <td>    50</td>      <th>  AIC:               </th> <td>   1164.</td>\n",
       "</tr>\n",
       "<tr>\n",
       "  <th>Df Residuals:</th>          <td>    48</td>      <th>  BIC:               </th> <td>   1168.</td>\n",
       "</tr>\n",
       "<tr>\n",
       "  <th>Df Model:</th>              <td>     1</td>      <th>                     </th>     <td> </td>   \n",
       "</tr>\n",
       "<tr>\n",
       "  <th>Covariance Type:</th>      <td>nonrobust</td>    <th>                     </th>     <td> </td>   \n",
       "</tr>\n",
       "</table>\n",
       "<table class=\"simpletable\">\n",
       "<tr>\n",
       "      <td></td>         <th>coef</th>     <th>std err</th>      <th>t</th>      <th>P>|t|</th>  <th>[0.025</th>    <th>0.975]</th>  \n",
       "</tr>\n",
       "<tr>\n",
       "  <th>Intercept</th> <td>  1.12e+05</td> <td> 3823.911</td> <td>   29.293</td> <td> 0.000</td> <td> 1.04e+05</td> <td>  1.2e+05</td>\n",
       "</tr>\n",
       "<tr>\n",
       "  <th>Marketing</th> <td> 2.984e+04</td> <td> 3823.911</td> <td>    7.803</td> <td> 0.000</td> <td> 2.21e+04</td> <td> 3.75e+04</td>\n",
       "</tr>\n",
       "</table>\n",
       "<table class=\"simpletable\">\n",
       "<tr>\n",
       "  <th>Omnibus:</th>       <td> 4.420</td> <th>  Durbin-Watson:     </th> <td>   1.178</td>\n",
       "</tr>\n",
       "<tr>\n",
       "  <th>Prob(Omnibus):</th> <td> 0.110</td> <th>  Jarque-Bera (JB):  </th> <td>   3.882</td>\n",
       "</tr>\n",
       "<tr>\n",
       "  <th>Skew:</th>          <td>-0.336</td> <th>  Prob(JB):          </th> <td>   0.144</td>\n",
       "</tr>\n",
       "<tr>\n",
       "  <th>Kurtosis:</th>      <td> 4.188</td> <th>  Cond. No.          </th> <td>    1.00</td>\n",
       "</tr>\n",
       "</table><br/><br/>Notes:<br/>[1] Standard Errors assume that the covariance matrix of the errors is correctly specified."
      ],
      "text/plain": [
       "<class 'statsmodels.iolib.summary.Summary'>\n",
       "\"\"\"\n",
       "                            OLS Regression Results                            \n",
       "==============================================================================\n",
       "Dep. Variable:                 Profit   R-squared:                       0.559\n",
       "Model:                            OLS   Adj. R-squared:                  0.550\n",
       "Method:                 Least Squares   F-statistic:                     60.88\n",
       "Date:                Thu, 06 May 2021   Prob (F-statistic):           4.38e-10\n",
       "Time:                        23:28:18   Log-Likelihood:                -580.18\n",
       "No. Observations:                  50   AIC:                             1164.\n",
       "Df Residuals:                      48   BIC:                             1168.\n",
       "Df Model:                           1                                         \n",
       "Covariance Type:            nonrobust                                         \n",
       "==============================================================================\n",
       "                 coef    std err          t      P>|t|      [0.025      0.975]\n",
       "------------------------------------------------------------------------------\n",
       "Intercept    1.12e+05   3823.911     29.293      0.000    1.04e+05     1.2e+05\n",
       "Marketing   2.984e+04   3823.911      7.803      0.000    2.21e+04    3.75e+04\n",
       "==============================================================================\n",
       "Omnibus:                        4.420   Durbin-Watson:                   1.178\n",
       "Prob(Omnibus):                  0.110   Jarque-Bera (JB):                3.882\n",
       "Skew:                          -0.336   Prob(JB):                        0.144\n",
       "Kurtosis:                       4.188   Cond. No.                         1.00\n",
       "==============================================================================\n",
       "\n",
       "Notes:\n",
       "[1] Standard Errors assume that the covariance matrix of the errors is correctly specified.\n",
       "\"\"\""
      ]
     },
     "execution_count": 37,
     "metadata": {},
     "output_type": "execute_result"
    }
   ],
   "source": [
    "model_mkt.summary()"
   ]
  },
  {
   "cell_type": "markdown",
   "metadata": {},
   "source": [
    "##### We could see that the p-value for Marketing Spend is 0 which is less than 0.05 and also the correlation value between Profit and Marketing Spend is 0.75 so the Profit is actually dependent on Marketing Spend.\n",
    "\n",
    "##### But when we used Marketing Spend to fit the model the p -value came as 0.123 (greater than 0.05). This means that Marketing Spend individually is affecting the Profit but when it is used by other features it is not. So we can say there is a multicollinearity problem and we will use VIF futher to check it."
   ]
  },
  {
   "cell_type": "code",
   "execution_count": 38,
   "metadata": {
    "ExecuteTime": {
     "end_time": "2021-03-04T07:19:05.565791Z",
     "start_time": "2021-03-04T07:19:05.534858Z"
    }
   },
   "outputs": [],
   "source": [
    "#Simple Linear Regression between Profit and R&D Spend\n",
    "model_rd = smf.ols('Profit~RD',data=startup_std).fit()"
   ]
  },
  {
   "cell_type": "code",
   "execution_count": 39,
   "metadata": {
    "ExecuteTime": {
     "end_time": "2021-03-04T07:19:18.976243Z",
     "start_time": "2021-03-04T07:19:18.952968Z"
    }
   },
   "outputs": [
    {
     "data": {
      "text/html": [
       "<table class=\"simpletable\">\n",
       "<caption>OLS Regression Results</caption>\n",
       "<tr>\n",
       "  <th>Dep. Variable:</th>         <td>Profit</td>      <th>  R-squared:         </th> <td>   0.947</td>\n",
       "</tr>\n",
       "<tr>\n",
       "  <th>Model:</th>                   <td>OLS</td>       <th>  Adj. R-squared:    </th> <td>   0.945</td>\n",
       "</tr>\n",
       "<tr>\n",
       "  <th>Method:</th>             <td>Least Squares</td>  <th>  F-statistic:       </th> <td>   849.8</td>\n",
       "</tr>\n",
       "<tr>\n",
       "  <th>Date:</th>             <td>Thu, 06 May 2021</td> <th>  Prob (F-statistic):</th> <td>3.50e-32</td>\n",
       "</tr>\n",
       "<tr>\n",
       "  <th>Time:</th>                 <td>23:28:18</td>     <th>  Log-Likelihood:    </th> <td> -527.44</td>\n",
       "</tr>\n",
       "<tr>\n",
       "  <th>No. Observations:</th>      <td>    50</td>      <th>  AIC:               </th> <td>   1059.</td>\n",
       "</tr>\n",
       "<tr>\n",
       "  <th>Df Residuals:</th>          <td>    48</td>      <th>  BIC:               </th> <td>   1063.</td>\n",
       "</tr>\n",
       "<tr>\n",
       "  <th>Df Model:</th>              <td>     1</td>      <th>                     </th>     <td> </td>   \n",
       "</tr>\n",
       "<tr>\n",
       "  <th>Covariance Type:</th>      <td>nonrobust</td>    <th>                     </th>     <td> </td>   \n",
       "</tr>\n",
       "</table>\n",
       "<table class=\"simpletable\">\n",
       "<tr>\n",
       "      <td></td>         <th>coef</th>     <th>std err</th>      <th>t</th>      <th>P>|t|</th>  <th>[0.025</th>    <th>0.975]</th>  \n",
       "</tr>\n",
       "<tr>\n",
       "  <th>Intercept</th> <td>  1.12e+05</td> <td> 1331.673</td> <td>   84.114</td> <td> 0.000</td> <td> 1.09e+05</td> <td> 1.15e+05</td>\n",
       "</tr>\n",
       "<tr>\n",
       "  <th>RD</th>        <td> 3.882e+04</td> <td> 1331.673</td> <td>   29.151</td> <td> 0.000</td> <td> 3.61e+04</td> <td> 4.15e+04</td>\n",
       "</tr>\n",
       "</table>\n",
       "<table class=\"simpletable\">\n",
       "<tr>\n",
       "  <th>Omnibus:</th>       <td>13.727</td> <th>  Durbin-Watson:     </th> <td>   1.116</td>\n",
       "</tr>\n",
       "<tr>\n",
       "  <th>Prob(Omnibus):</th> <td> 0.001</td> <th>  Jarque-Bera (JB):  </th> <td>  18.536</td>\n",
       "</tr>\n",
       "<tr>\n",
       "  <th>Skew:</th>          <td>-0.911</td> <th>  Prob(JB):          </th> <td>9.44e-05</td>\n",
       "</tr>\n",
       "<tr>\n",
       "  <th>Kurtosis:</th>      <td> 5.361</td> <th>  Cond. No.          </th> <td>    1.00</td>\n",
       "</tr>\n",
       "</table><br/><br/>Notes:<br/>[1] Standard Errors assume that the covariance matrix of the errors is correctly specified."
      ],
      "text/plain": [
       "<class 'statsmodels.iolib.summary.Summary'>\n",
       "\"\"\"\n",
       "                            OLS Regression Results                            \n",
       "==============================================================================\n",
       "Dep. Variable:                 Profit   R-squared:                       0.947\n",
       "Model:                            OLS   Adj. R-squared:                  0.945\n",
       "Method:                 Least Squares   F-statistic:                     849.8\n",
       "Date:                Thu, 06 May 2021   Prob (F-statistic):           3.50e-32\n",
       "Time:                        23:28:18   Log-Likelihood:                -527.44\n",
       "No. Observations:                  50   AIC:                             1059.\n",
       "Df Residuals:                      48   BIC:                             1063.\n",
       "Df Model:                           1                                         \n",
       "Covariance Type:            nonrobust                                         \n",
       "==============================================================================\n",
       "                 coef    std err          t      P>|t|      [0.025      0.975]\n",
       "------------------------------------------------------------------------------\n",
       "Intercept    1.12e+05   1331.673     84.114      0.000    1.09e+05    1.15e+05\n",
       "RD          3.882e+04   1331.673     29.151      0.000    3.61e+04    4.15e+04\n",
       "==============================================================================\n",
       "Omnibus:                       13.727   Durbin-Watson:                   1.116\n",
       "Prob(Omnibus):                  0.001   Jarque-Bera (JB):               18.536\n",
       "Skew:                          -0.911   Prob(JB):                     9.44e-05\n",
       "Kurtosis:                       5.361   Cond. No.                         1.00\n",
       "==============================================================================\n",
       "\n",
       "Notes:\n",
       "[1] Standard Errors assume that the covariance matrix of the errors is correctly specified.\n",
       "\"\"\""
      ]
     },
     "execution_count": 39,
     "metadata": {},
     "output_type": "execute_result"
    }
   ],
   "source": [
    "model_rd.summary()"
   ]
  },
  {
   "cell_type": "markdown",
   "metadata": {},
   "source": [
    "##### We could see that the p-value for R&D Spend is 0 which is less than 0.05 and also the correlation value between Profit and  R&D Spend is 0.97 so the Profit is actually dependent on R&D Spend.\n"
   ]
  },
  {
   "cell_type": "code",
   "execution_count": 40,
   "metadata": {
    "ExecuteTime": {
     "end_time": "2021-03-04T06:42:26.8543Z",
     "start_time": "2021-03-04T06:42:26.823416Z"
    }
   },
   "outputs": [],
   "source": [
    "#Simple Linear Regression between Profit and State_California\n",
    "\n",
    "model_sc = smf.ols('Profit~State_California',data=startup_std).fit()"
   ]
  },
  {
   "cell_type": "code",
   "execution_count": 41,
   "metadata": {
    "ExecuteTime": {
     "end_time": "2021-03-04T06:42:28.101874Z",
     "start_time": "2021-03-04T06:42:28.056626Z"
    }
   },
   "outputs": [
    {
     "data": {
      "text/html": [
       "<table class=\"simpletable\">\n",
       "<caption>OLS Regression Results</caption>\n",
       "<tr>\n",
       "  <th>Dep. Variable:</th>         <td>Profit</td>      <th>  R-squared:         </th> <td>   0.021</td>\n",
       "</tr>\n",
       "<tr>\n",
       "  <th>Model:</th>                   <td>OLS</td>       <th>  Adj. R-squared:    </th> <td>   0.001</td>\n",
       "</tr>\n",
       "<tr>\n",
       "  <th>Method:</th>             <td>Least Squares</td>  <th>  F-statistic:       </th> <td>   1.043</td>\n",
       "</tr>\n",
       "<tr>\n",
       "  <th>Date:</th>             <td>Thu, 06 May 2021</td> <th>  Prob (F-statistic):</th>  <td> 0.312</td> \n",
       "</tr>\n",
       "<tr>\n",
       "  <th>Time:</th>                 <td>23:28:19</td>     <th>  Log-Likelihood:    </th> <td> -600.12</td>\n",
       "</tr>\n",
       "<tr>\n",
       "  <th>No. Observations:</th>      <td>    50</td>      <th>  AIC:               </th> <td>   1204.</td>\n",
       "</tr>\n",
       "<tr>\n",
       "  <th>Df Residuals:</th>          <td>    48</td>      <th>  BIC:               </th> <td>   1208.</td>\n",
       "</tr>\n",
       "<tr>\n",
       "  <th>Df Model:</th>              <td>     1</td>      <th>                     </th>     <td> </td>   \n",
       "</tr>\n",
       "<tr>\n",
       "  <th>Covariance Type:</th>      <td>nonrobust</td>    <th>                     </th>     <td> </td>   \n",
       "</tr>\n",
       "</table>\n",
       "<table class=\"simpletable\">\n",
       "<tr>\n",
       "          <td></td>            <th>coef</th>     <th>std err</th>      <th>t</th>      <th>P>|t|</th>  <th>[0.025</th>    <th>0.975]</th>  \n",
       "</tr>\n",
       "<tr>\n",
       "  <th>Intercept</th>        <td>  1.12e+05</td> <td> 5697.651</td> <td>   19.659</td> <td> 0.000</td> <td> 1.01e+05</td> <td> 1.23e+05</td>\n",
       "</tr>\n",
       "<tr>\n",
       "  <th>State_California</th> <td>-5819.0557</td> <td> 5697.651</td> <td>   -1.021</td> <td> 0.312</td> <td>-1.73e+04</td> <td> 5636.840</td>\n",
       "</tr>\n",
       "</table>\n",
       "<table class=\"simpletable\">\n",
       "<tr>\n",
       "  <th>Omnibus:</th>       <td> 0.079</td> <th>  Durbin-Watson:     </th> <td>   0.073</td>\n",
       "</tr>\n",
       "<tr>\n",
       "  <th>Prob(Omnibus):</th> <td> 0.961</td> <th>  Jarque-Bera (JB):  </th> <td>   0.190</td>\n",
       "</tr>\n",
       "<tr>\n",
       "  <th>Skew:</th>          <td> 0.087</td> <th>  Prob(JB):          </th> <td>   0.909</td>\n",
       "</tr>\n",
       "<tr>\n",
       "  <th>Kurtosis:</th>      <td> 2.753</td> <th>  Cond. No.          </th> <td>    1.00</td>\n",
       "</tr>\n",
       "</table><br/><br/>Notes:<br/>[1] Standard Errors assume that the covariance matrix of the errors is correctly specified."
      ],
      "text/plain": [
       "<class 'statsmodels.iolib.summary.Summary'>\n",
       "\"\"\"\n",
       "                            OLS Regression Results                            \n",
       "==============================================================================\n",
       "Dep. Variable:                 Profit   R-squared:                       0.021\n",
       "Model:                            OLS   Adj. R-squared:                  0.001\n",
       "Method:                 Least Squares   F-statistic:                     1.043\n",
       "Date:                Thu, 06 May 2021   Prob (F-statistic):              0.312\n",
       "Time:                        23:28:19   Log-Likelihood:                -600.12\n",
       "No. Observations:                  50   AIC:                             1204.\n",
       "Df Residuals:                      48   BIC:                             1208.\n",
       "Df Model:                           1                                         \n",
       "Covariance Type:            nonrobust                                         \n",
       "====================================================================================\n",
       "                       coef    std err          t      P>|t|      [0.025      0.975]\n",
       "------------------------------------------------------------------------------------\n",
       "Intercept          1.12e+05   5697.651     19.659      0.000    1.01e+05    1.23e+05\n",
       "State_California -5819.0557   5697.651     -1.021      0.312   -1.73e+04    5636.840\n",
       "==============================================================================\n",
       "Omnibus:                        0.079   Durbin-Watson:                   0.073\n",
       "Prob(Omnibus):                  0.961   Jarque-Bera (JB):                0.190\n",
       "Skew:                           0.087   Prob(JB):                        0.909\n",
       "Kurtosis:                       2.753   Cond. No.                         1.00\n",
       "==============================================================================\n",
       "\n",
       "Notes:\n",
       "[1] Standard Errors assume that the covariance matrix of the errors is correctly specified.\n",
       "\"\"\""
      ]
     },
     "execution_count": 41,
     "metadata": {},
     "output_type": "execute_result"
    }
   ],
   "source": [
    "model_sc.summary()"
   ]
  },
  {
   "cell_type": "markdown",
   "metadata": {},
   "source": [
    "###### We could see that the p-value for State_California is 0.312 which is more than 0.05 and also the correlation value between Profit and State_California is -0.15 so the Profit is actually not dependent on State_California variable.\n"
   ]
  },
  {
   "cell_type": "code",
   "execution_count": 42,
   "metadata": {
    "ExecuteTime": {
     "end_time": "2021-03-04T06:53:36.212669Z",
     "start_time": "2021-03-04T06:53:36.20003Z"
    }
   },
   "outputs": [],
   "source": [
    "#Simple Linear Regression between Profit and State_Florida¶\n",
    "model_sf = smf.ols('Profit~State_Florida',data=startup_std).fit()"
   ]
  },
  {
   "cell_type": "code",
   "execution_count": 43,
   "metadata": {
    "ExecuteTime": {
     "end_time": "2021-03-04T06:54:05.259393Z",
     "start_time": "2021-03-04T06:54:05.235584Z"
    }
   },
   "outputs": [
    {
     "data": {
      "text/html": [
       "<table class=\"simpletable\">\n",
       "<caption>OLS Regression Results</caption>\n",
       "<tr>\n",
       "  <th>Dep. Variable:</th>         <td>Profit</td>      <th>  R-squared:         </th> <td>   0.014</td>\n",
       "</tr>\n",
       "<tr>\n",
       "  <th>Model:</th>                   <td>OLS</td>       <th>  Adj. R-squared:    </th> <td>  -0.007</td>\n",
       "</tr>\n",
       "<tr>\n",
       "  <th>Method:</th>             <td>Least Squares</td>  <th>  F-statistic:       </th> <td>  0.6575</td>\n",
       "</tr>\n",
       "<tr>\n",
       "  <th>Date:</th>             <td>Thu, 06 May 2021</td> <th>  Prob (F-statistic):</th>  <td> 0.421</td> \n",
       "</tr>\n",
       "<tr>\n",
       "  <th>Time:</th>                 <td>23:28:19</td>     <th>  Log-Likelihood:    </th> <td> -600.31</td>\n",
       "</tr>\n",
       "<tr>\n",
       "  <th>No. Observations:</th>      <td>    50</td>      <th>  AIC:               </th> <td>   1205.</td>\n",
       "</tr>\n",
       "<tr>\n",
       "  <th>Df Residuals:</th>          <td>    48</td>      <th>  BIC:               </th> <td>   1208.</td>\n",
       "</tr>\n",
       "<tr>\n",
       "  <th>Df Model:</th>              <td>     1</td>      <th>                     </th>     <td> </td>   \n",
       "</tr>\n",
       "<tr>\n",
       "  <th>Covariance Type:</th>      <td>nonrobust</td>    <th>                     </th>     <td> </td>   \n",
       "</tr>\n",
       "</table>\n",
       "<table class=\"simpletable\">\n",
       "<tr>\n",
       "        <td></td>           <th>coef</th>     <th>std err</th>      <th>t</th>      <th>P>|t|</th>  <th>[0.025</th>    <th>0.975]</th>  \n",
       "</tr>\n",
       "<tr>\n",
       "  <th>Intercept</th>     <td>  1.12e+05</td> <td> 5720.181</td> <td>   19.582</td> <td> 0.000</td> <td> 1.01e+05</td> <td> 1.24e+05</td>\n",
       "</tr>\n",
       "<tr>\n",
       "  <th>State_Florida</th> <td> 4638.2720</td> <td> 5720.181</td> <td>    0.811</td> <td> 0.421</td> <td>-6862.924</td> <td> 1.61e+04</td>\n",
       "</tr>\n",
       "</table>\n",
       "<table class=\"simpletable\">\n",
       "<tr>\n",
       "  <th>Omnibus:</th>       <td> 0.077</td> <th>  Durbin-Watson:     </th> <td>   0.058</td>\n",
       "</tr>\n",
       "<tr>\n",
       "  <th>Prob(Omnibus):</th> <td> 0.962</td> <th>  Jarque-Bera (JB):  </th> <td>   0.123</td>\n",
       "</tr>\n",
       "<tr>\n",
       "  <th>Skew:</th>          <td> 0.080</td> <th>  Prob(JB):          </th> <td>   0.940</td>\n",
       "</tr>\n",
       "<tr>\n",
       "  <th>Kurtosis:</th>      <td> 2.817</td> <th>  Cond. No.          </th> <td>    1.00</td>\n",
       "</tr>\n",
       "</table><br/><br/>Notes:<br/>[1] Standard Errors assume that the covariance matrix of the errors is correctly specified."
      ],
      "text/plain": [
       "<class 'statsmodels.iolib.summary.Summary'>\n",
       "\"\"\"\n",
       "                            OLS Regression Results                            \n",
       "==============================================================================\n",
       "Dep. Variable:                 Profit   R-squared:                       0.014\n",
       "Model:                            OLS   Adj. R-squared:                 -0.007\n",
       "Method:                 Least Squares   F-statistic:                    0.6575\n",
       "Date:                Thu, 06 May 2021   Prob (F-statistic):              0.421\n",
       "Time:                        23:28:19   Log-Likelihood:                -600.31\n",
       "No. Observations:                  50   AIC:                             1205.\n",
       "Df Residuals:                      48   BIC:                             1208.\n",
       "Df Model:                           1                                         \n",
       "Covariance Type:            nonrobust                                         \n",
       "=================================================================================\n",
       "                    coef    std err          t      P>|t|      [0.025      0.975]\n",
       "---------------------------------------------------------------------------------\n",
       "Intercept       1.12e+05   5720.181     19.582      0.000    1.01e+05    1.24e+05\n",
       "State_Florida  4638.2720   5720.181      0.811      0.421   -6862.924    1.61e+04\n",
       "==============================================================================\n",
       "Omnibus:                        0.077   Durbin-Watson:                   0.058\n",
       "Prob(Omnibus):                  0.962   Jarque-Bera (JB):                0.123\n",
       "Skew:                           0.080   Prob(JB):                        0.940\n",
       "Kurtosis:                       2.817   Cond. No.                         1.00\n",
       "==============================================================================\n",
       "\n",
       "Notes:\n",
       "[1] Standard Errors assume that the covariance matrix of the errors is correctly specified.\n",
       "\"\"\""
      ]
     },
     "execution_count": 43,
     "metadata": {},
     "output_type": "execute_result"
    }
   ],
   "source": [
    "model_sf.summary()"
   ]
  },
  {
   "cell_type": "markdown",
   "metadata": {},
   "source": [
    "###### We could see that the p-value for State_Florida is 0.421 which is more than 0.05 and also the correlation value between Profit and State_Florida is 0.12 so the Profit is actually not dependent on State_Florida variable.\n"
   ]
  },
  {
   "cell_type": "code",
   "execution_count": 44,
   "metadata": {
    "ExecuteTime": {
     "end_time": "2021-03-04T06:57:23.420929Z",
     "start_time": "2021-03-04T06:57:23.409899Z"
    }
   },
   "outputs": [],
   "source": [
    "#Simple Linear Regression between Profit and State_NewYork\n",
    "model_sny = smf.ols('Profit~State_NewYork',data=startup_std).fit()"
   ]
  },
  {
   "cell_type": "code",
   "execution_count": 45,
   "metadata": {
    "ExecuteTime": {
     "end_time": "2021-03-04T06:57:33.185244Z",
     "start_time": "2021-03-04T06:57:33.16523Z"
    }
   },
   "outputs": [
    {
     "data": {
      "text/html": [
       "<table class=\"simpletable\">\n",
       "<caption>OLS Regression Results</caption>\n",
       "<tr>\n",
       "  <th>Dep. Variable:</th>         <td>Profit</td>      <th>  R-squared:         </th> <td>   0.001</td>\n",
       "</tr>\n",
       "<tr>\n",
       "  <th>Model:</th>                   <td>OLS</td>       <th>  Adj. R-squared:    </th> <td>  -0.020</td>\n",
       "</tr>\n",
       "<tr>\n",
       "  <th>Method:</th>             <td>Least Squares</td>  <th>  F-statistic:       </th> <td> 0.04727</td>\n",
       "</tr>\n",
       "<tr>\n",
       "  <th>Date:</th>             <td>Thu, 06 May 2021</td> <th>  Prob (F-statistic):</th>  <td> 0.829</td> \n",
       "</tr>\n",
       "<tr>\n",
       "  <th>Time:</th>                 <td>23:28:19</td>     <th>  Log-Likelihood:    </th> <td> -600.63</td>\n",
       "</tr>\n",
       "<tr>\n",
       "  <th>No. Observations:</th>      <td>    50</td>      <th>  AIC:               </th> <td>   1205.</td>\n",
       "</tr>\n",
       "<tr>\n",
       "  <th>Df Residuals:</th>          <td>    48</td>      <th>  BIC:               </th> <td>   1209.</td>\n",
       "</tr>\n",
       "<tr>\n",
       "  <th>Df Model:</th>              <td>     1</td>      <th>                     </th>     <td> </td>   \n",
       "</tr>\n",
       "<tr>\n",
       "  <th>Covariance Type:</th>      <td>nonrobust</td>    <th>                     </th>     <td> </td>   \n",
       "</tr>\n",
       "</table>\n",
       "<table class=\"simpletable\">\n",
       "<tr>\n",
       "        <td></td>           <th>coef</th>     <th>std err</th>      <th>t</th>      <th>P>|t|</th>  <th>[0.025</th>    <th>0.975]</th>  \n",
       "</tr>\n",
       "<tr>\n",
       "  <th>Intercept</th>     <td>  1.12e+05</td> <td> 5756.391</td> <td>   19.459</td> <td> 0.000</td> <td>    1e+05</td> <td> 1.24e+05</td>\n",
       "</tr>\n",
       "<tr>\n",
       "  <th>State_NewYork</th> <td> 1251.6012</td> <td> 5756.391</td> <td>    0.217</td> <td> 0.829</td> <td>-1.03e+04</td> <td> 1.28e+04</td>\n",
       "</tr>\n",
       "</table>\n",
       "<table class=\"simpletable\">\n",
       "<tr>\n",
       "  <th>Omnibus:</th>       <td> 0.011</td> <th>  Durbin-Watson:     </th> <td>   0.021</td>\n",
       "</tr>\n",
       "<tr>\n",
       "  <th>Prob(Omnibus):</th> <td> 0.994</td> <th>  Jarque-Bera (JB):  </th> <td>   0.082</td>\n",
       "</tr>\n",
       "<tr>\n",
       "  <th>Skew:</th>          <td> 0.022</td> <th>  Prob(JB):          </th> <td>   0.960</td>\n",
       "</tr>\n",
       "<tr>\n",
       "  <th>Kurtosis:</th>      <td> 2.807</td> <th>  Cond. No.          </th> <td>    1.00</td>\n",
       "</tr>\n",
       "</table><br/><br/>Notes:<br/>[1] Standard Errors assume that the covariance matrix of the errors is correctly specified."
      ],
      "text/plain": [
       "<class 'statsmodels.iolib.summary.Summary'>\n",
       "\"\"\"\n",
       "                            OLS Regression Results                            \n",
       "==============================================================================\n",
       "Dep. Variable:                 Profit   R-squared:                       0.001\n",
       "Model:                            OLS   Adj. R-squared:                 -0.020\n",
       "Method:                 Least Squares   F-statistic:                   0.04727\n",
       "Date:                Thu, 06 May 2021   Prob (F-statistic):              0.829\n",
       "Time:                        23:28:19   Log-Likelihood:                -600.63\n",
       "No. Observations:                  50   AIC:                             1205.\n",
       "Df Residuals:                      48   BIC:                             1209.\n",
       "Df Model:                           1                                         \n",
       "Covariance Type:            nonrobust                                         \n",
       "=================================================================================\n",
       "                    coef    std err          t      P>|t|      [0.025      0.975]\n",
       "---------------------------------------------------------------------------------\n",
       "Intercept       1.12e+05   5756.391     19.459      0.000       1e+05    1.24e+05\n",
       "State_NewYork  1251.6012   5756.391      0.217      0.829   -1.03e+04    1.28e+04\n",
       "==============================================================================\n",
       "Omnibus:                        0.011   Durbin-Watson:                   0.021\n",
       "Prob(Omnibus):                  0.994   Jarque-Bera (JB):                0.082\n",
       "Skew:                           0.022   Prob(JB):                        0.960\n",
       "Kurtosis:                       2.807   Cond. No.                         1.00\n",
       "==============================================================================\n",
       "\n",
       "Notes:\n",
       "[1] Standard Errors assume that the covariance matrix of the errors is correctly specified.\n",
       "\"\"\""
      ]
     },
     "execution_count": 45,
     "metadata": {},
     "output_type": "execute_result"
    }
   ],
   "source": [
    "model_sny.summary()"
   ]
  },
  {
   "cell_type": "markdown",
   "metadata": {},
   "source": [
    "###### We could see that the p-value for State_NewYork is 0.829 which is more than 0.05 and also the correlation value between Profit and State_NewYork is 0.031 so the Profit is actually not dependent on State_NewYork variable.\n"
   ]
  },
  {
   "cell_type": "code",
   "execution_count": 46,
   "metadata": {
    "ExecuteTime": {
     "end_time": "2021-03-04T07:07:48.115574Z",
     "start_time": "2021-03-04T07:07:47.986792Z"
    }
   },
   "outputs": [
    {
     "name": "stderr",
     "output_type": "stream",
     "text": [
      "<ipython-input-46-a47f227acb87>:12: RuntimeWarning: divide by zero encountered in double_scalars\n",
      "  vif_sc = 1/(1-rsq_sc)\n",
      "<ipython-input-46-a47f227acb87>:15: RuntimeWarning: divide by zero encountered in double_scalars\n",
      "  vif_sf = 1/(1-rsq_sf)\n",
      "<ipython-input-46-a47f227acb87>:18: RuntimeWarning: divide by zero encountered in double_scalars\n",
      "  vif_sny = 1/(1-rsq_sny)\n"
     ]
    },
    {
     "data": {
      "text/html": [
       "<div>\n",
       "<style scoped>\n",
       "    .dataframe tbody tr th:only-of-type {\n",
       "        vertical-align: middle;\n",
       "    }\n",
       "\n",
       "    .dataframe tbody tr th {\n",
       "        vertical-align: top;\n",
       "    }\n",
       "\n",
       "    .dataframe thead th {\n",
       "        text-align: right;\n",
       "    }\n",
       "</style>\n",
       "<table border=\"1\" class=\"dataframe\">\n",
       "  <thead>\n",
       "    <tr style=\"text-align: right;\">\n",
       "      <th></th>\n",
       "      <th>Features</th>\n",
       "      <th>VIF</th>\n",
       "    </tr>\n",
       "  </thead>\n",
       "  <tbody>\n",
       "    <tr>\n",
       "      <th>0</th>\n",
       "      <td>RD</td>\n",
       "      <td>2.495511</td>\n",
       "    </tr>\n",
       "    <tr>\n",
       "      <th>1</th>\n",
       "      <td>Administration</td>\n",
       "      <td>1.177766</td>\n",
       "    </tr>\n",
       "    <tr>\n",
       "      <th>2</th>\n",
       "      <td>Marketing</td>\n",
       "      <td>2.416797</td>\n",
       "    </tr>\n",
       "    <tr>\n",
       "      <th>3</th>\n",
       "      <td>State_California</td>\n",
       "      <td>inf</td>\n",
       "    </tr>\n",
       "    <tr>\n",
       "      <th>4</th>\n",
       "      <td>State_Florida</td>\n",
       "      <td>inf</td>\n",
       "    </tr>\n",
       "    <tr>\n",
       "      <th>5</th>\n",
       "      <td>State_NewYork</td>\n",
       "      <td>inf</td>\n",
       "    </tr>\n",
       "  </tbody>\n",
       "</table>\n",
       "</div>"
      ],
      "text/plain": [
       "           Features       VIF\n",
       "0                RD  2.495511\n",
       "1    Administration  1.177766\n",
       "2         Marketing  2.416797\n",
       "3  State_California       inf\n",
       "4     State_Florida       inf\n",
       "5     State_NewYork       inf"
      ]
     },
     "execution_count": 46,
     "metadata": {},
     "output_type": "execute_result"
    }
   ],
   "source": [
    "#Calculating VIF as well to check collinearity\n",
    "rsq_rd = smf.ols('RD~Administration+Marketing+State_California+State_Florida+State_NewYork',data=startup_std).fit().rsquared  \n",
    "vif_rd = 1/(1-rsq_rd)\n",
    "\n",
    "rsq_ad = smf.ols('Administration~RD+Marketing+State_California+State_Florida+State_NewYork',data=startup_std).fit().rsquared  \n",
    "vif_ad = 1/(1-rsq_ad)\n",
    "\n",
    "rsq_mkt = smf.ols('Marketing~RD+Administration+State_California+State_Florida+State_NewYork',data=startup_std).fit().rsquared  \n",
    "vif_mkt = 1/(1-rsq_mkt) \n",
    "\n",
    "rsq_sc = smf.ols('State_California~RD+Administration+Marketing+State_Florida+State_NewYork',data=startup_std).fit().rsquared  \n",
    "vif_sc = 1/(1-rsq_sc)\n",
    "\n",
    "rsq_sf = smf.ols('State_Florida~RD+Administration+Marketing+State_California+State_NewYork',data=startup_std).fit().rsquared  \n",
    "vif_sf = 1/(1-rsq_sf)\n",
    "\n",
    "rsq_sny = smf.ols('State_NewYork~RD+Administration+Marketing+State_California+State_Florida',data=startup_std).fit().rsquared  \n",
    "vif_sny = 1/(1-rsq_sny)\n",
    "\n",
    "\n",
    "# Storing vif values in a data frame\n",
    "d1 = {'Features':['RD','Administration','Marketing','State_California','State_Florida','State_NewYork'],'VIF':[vif_rd,vif_ad,vif_mkt,vif_sc,vif_sf,vif_sny]}\n",
    "Vif_frame = pd.DataFrame(d1)  \n",
    "Vif_frame"
   ]
  },
  {
   "cell_type": "markdown",
   "metadata": {},
   "source": [
    "##### Here, VIF value is infinite for the State variables, so we can confirm collinearlity does not exist between them"
   ]
  },
  {
   "cell_type": "markdown",
   "metadata": {},
   "source": [
    "##### From the above Simple Regression models and VIF values we can say that the States and Administration are not significant variaables for predicting the Profit values.\n",
    "\n",
    "##### We will build a model using R&D Spend and Marketing Spend"
   ]
  },
  {
   "cell_type": "code",
   "execution_count": 47,
   "metadata": {
    "ExecuteTime": {
     "end_time": "2021-03-04T07:23:39.089323Z",
     "start_time": "2021-03-04T07:23:39.065811Z"
    }
   },
   "outputs": [],
   "source": [
    "#Simple Linear Regression between Profit and R&D Spend, Marketing Spend\n",
    "model_rd_m = smf.ols('Profit~RD+Marketing',data=startup_std).fit()"
   ]
  },
  {
   "cell_type": "code",
   "execution_count": 48,
   "metadata": {
    "ExecuteTime": {
     "end_time": "2021-03-04T07:23:54.459224Z",
     "start_time": "2021-03-04T07:23:54.429774Z"
    }
   },
   "outputs": [
    {
     "data": {
      "text/html": [
       "<table class=\"simpletable\">\n",
       "<caption>OLS Regression Results</caption>\n",
       "<tr>\n",
       "  <th>Dep. Variable:</th>         <td>Profit</td>      <th>  R-squared:         </th> <td>   0.950</td>\n",
       "</tr>\n",
       "<tr>\n",
       "  <th>Model:</th>                   <td>OLS</td>       <th>  Adj. R-squared:    </th> <td>   0.948</td>\n",
       "</tr>\n",
       "<tr>\n",
       "  <th>Method:</th>             <td>Least Squares</td>  <th>  F-statistic:       </th> <td>   450.8</td>\n",
       "</tr>\n",
       "<tr>\n",
       "  <th>Date:</th>             <td>Thu, 06 May 2021</td> <th>  Prob (F-statistic):</th> <td>2.16e-31</td>\n",
       "</tr>\n",
       "<tr>\n",
       "  <th>Time:</th>                 <td>23:28:19</td>     <th>  Log-Likelihood:    </th> <td> -525.54</td>\n",
       "</tr>\n",
       "<tr>\n",
       "  <th>No. Observations:</th>      <td>    50</td>      <th>  AIC:               </th> <td>   1057.</td>\n",
       "</tr>\n",
       "<tr>\n",
       "  <th>Df Residuals:</th>          <td>    47</td>      <th>  BIC:               </th> <td>   1063.</td>\n",
       "</tr>\n",
       "<tr>\n",
       "  <th>Df Model:</th>              <td>     2</td>      <th>                     </th>     <td> </td>   \n",
       "</tr>\n",
       "<tr>\n",
       "  <th>Covariance Type:</th>      <td>nonrobust</td>    <th>                     </th>     <td> </td>   \n",
       "</tr>\n",
       "</table>\n",
       "<table class=\"simpletable\">\n",
       "<tr>\n",
       "      <td></td>         <th>coef</th>     <th>std err</th>      <th>t</th>      <th>P>|t|</th>  <th>[0.025</th>    <th>0.975]</th>  \n",
       "</tr>\n",
       "<tr>\n",
       "  <th>Intercept</th> <td>  1.12e+05</td> <td> 1295.556</td> <td>   86.459</td> <td> 0.000</td> <td> 1.09e+05</td> <td> 1.15e+05</td>\n",
       "</tr>\n",
       "<tr>\n",
       "  <th>RD</th>        <td>  3.62e+04</td> <td> 1878.872</td> <td>   19.266</td> <td> 0.000</td> <td> 3.24e+04</td> <td>    4e+04</td>\n",
       "</tr>\n",
       "<tr>\n",
       "  <th>Marketing</th> <td> 3620.6842</td> <td> 1878.872</td> <td>    1.927</td> <td> 0.060</td> <td> -159.118</td> <td> 7400.487</td>\n",
       "</tr>\n",
       "</table>\n",
       "<table class=\"simpletable\">\n",
       "<tr>\n",
       "  <th>Omnibus:</th>       <td>14.677</td> <th>  Durbin-Watson:     </th> <td>   1.257</td>\n",
       "</tr>\n",
       "<tr>\n",
       "  <th>Prob(Omnibus):</th> <td> 0.001</td> <th>  Jarque-Bera (JB):  </th> <td>  21.161</td>\n",
       "</tr>\n",
       "<tr>\n",
       "  <th>Skew:</th>          <td>-0.939</td> <th>  Prob(JB):          </th> <td>2.54e-05</td>\n",
       "</tr>\n",
       "<tr>\n",
       "  <th>Kurtosis:</th>      <td> 5.575</td> <th>  Cond. No.          </th> <td>    2.50</td>\n",
       "</tr>\n",
       "</table><br/><br/>Notes:<br/>[1] Standard Errors assume that the covariance matrix of the errors is correctly specified."
      ],
      "text/plain": [
       "<class 'statsmodels.iolib.summary.Summary'>\n",
       "\"\"\"\n",
       "                            OLS Regression Results                            \n",
       "==============================================================================\n",
       "Dep. Variable:                 Profit   R-squared:                       0.950\n",
       "Model:                            OLS   Adj. R-squared:                  0.948\n",
       "Method:                 Least Squares   F-statistic:                     450.8\n",
       "Date:                Thu, 06 May 2021   Prob (F-statistic):           2.16e-31\n",
       "Time:                        23:28:19   Log-Likelihood:                -525.54\n",
       "No. Observations:                  50   AIC:                             1057.\n",
       "Df Residuals:                      47   BIC:                             1063.\n",
       "Df Model:                           2                                         \n",
       "Covariance Type:            nonrobust                                         \n",
       "==============================================================================\n",
       "                 coef    std err          t      P>|t|      [0.025      0.975]\n",
       "------------------------------------------------------------------------------\n",
       "Intercept    1.12e+05   1295.556     86.459      0.000    1.09e+05    1.15e+05\n",
       "RD           3.62e+04   1878.872     19.266      0.000    3.24e+04       4e+04\n",
       "Marketing   3620.6842   1878.872      1.927      0.060    -159.118    7400.487\n",
       "==============================================================================\n",
       "Omnibus:                       14.677   Durbin-Watson:                   1.257\n",
       "Prob(Omnibus):                  0.001   Jarque-Bera (JB):               21.161\n",
       "Skew:                          -0.939   Prob(JB):                     2.54e-05\n",
       "Kurtosis:                       5.575   Cond. No.                         2.50\n",
       "==============================================================================\n",
       "\n",
       "Notes:\n",
       "[1] Standard Errors assume that the covariance matrix of the errors is correctly specified.\n",
       "\"\"\""
      ]
     },
     "execution_count": 48,
     "metadata": {},
     "output_type": "execute_result"
    }
   ],
   "source": [
    "model_rd_m.summary()"
   ]
  },
  {
   "cell_type": "code",
   "execution_count": 49,
   "metadata": {
    "ExecuteTime": {
     "end_time": "2021-03-04T07:45:56.368654Z",
     "start_time": "2021-03-04T07:45:56.355376Z"
    }
   },
   "outputs": [
    {
     "data": {
      "text/plain": [
       "(0.5591535746115515, 1164.3567921009328)"
      ]
     },
     "execution_count": 49,
     "metadata": {},
     "output_type": "execute_result"
    }
   ],
   "source": [
    "(model_mkt.rsquared,model_mkt.aic)"
   ]
  },
  {
   "cell_type": "code",
   "execution_count": 50,
   "metadata": {
    "ExecuteTime": {
     "end_time": "2021-03-04T07:46:31.822305Z",
     "start_time": "2021-03-04T07:46:31.807511Z"
    }
   },
   "outputs": [
    {
     "data": {
      "text/plain": [
       "(0.9465353160804392, 1058.8730295624773)"
      ]
     },
     "execution_count": 50,
     "metadata": {},
     "output_type": "execute_result"
    }
   ],
   "source": [
    "(model_rd.rsquared,model_rd.aic)"
   ]
  },
  {
   "cell_type": "code",
   "execution_count": 51,
   "metadata": {
    "ExecuteTime": {
     "end_time": "2021-03-04T07:50:39.104787Z",
     "start_time": "2021-03-04T07:50:39.09201Z"
    }
   },
   "outputs": [
    {
     "data": {
      "text/plain": [
       "(0.9504503015559763, 0.9483418037498477)"
      ]
     },
     "execution_count": 51,
     "metadata": {},
     "output_type": "execute_result"
    }
   ],
   "source": [
    "(model_rd_m.rsquared,model_rd_m.rsquared_adj)"
   ]
  },
  {
   "cell_type": "code",
   "execution_count": 52,
   "metadata": {
    "ExecuteTime": {
     "end_time": "2021-03-04T07:51:29.813153Z",
     "start_time": "2021-03-04T07:51:29.075346Z"
    }
   },
   "outputs": [
    {
     "data": {
      "image/png": "[encoded data removed]",
      "text/plain": [
       "<Figure size 432x288 with 1 Axes>"
      ]
     },
     "metadata": {
      "needs_background": "light"
     },
     "output_type": "display_data"
    }
   ],
   "source": [
    "#Model validation using Residual analysis\n",
    "#Q-Q plot to check normality of errors\n",
    "import statsmodels.api as sm\n",
    "qqplot=sm.qqplot(model_rd_m.resid,line='q') \n",
    "plt.title(\"Normal Q-Q plot of residuals\")\n",
    "plt.show()"
   ]
  },
  {
   "cell_type": "code",
   "execution_count": 53,
   "metadata": {
    "ExecuteTime": {
     "end_time": "2021-03-04T08:14:13.210848Z",
     "start_time": "2021-03-04T08:14:13.204313Z"
    }
   },
   "outputs": [
    {
     "data": {
      "text/plain": [
       "[array([49], dtype=int64)]"
      ]
     },
     "execution_count": 53,
     "metadata": {},
     "output_type": "execute_result"
    }
   ],
   "source": [
    "list(np.where(model_rd_m.resid<-20000))"
   ]
  },
  {
   "cell_type": "markdown",
   "metadata": {},
   "source": [
    "We can see most of the points are very close and on the line in the above plot. Although, there is a data point (observation no.49) that is very far away from the straight line and we will try to remove the influencer point with the help of Cook's distance, Hat - point method later below. \n"
   ]
  },
  {
   "cell_type": "code",
   "execution_count": 54,
   "metadata": {
    "ExecuteTime": {
     "end_time": "2021-03-04T07:51:41.590293Z",
     "start_time": "2021-03-04T07:51:41.573789Z"
    }
   },
   "outputs": [],
   "source": [
    "#Residual Plot for Homoscedasticity\n",
    "def get_standardized_values( vals ):\n",
    "    return (vals - vals.mean())/vals.std()"
   ]
  },
  {
   "cell_type": "code",
   "execution_count": 55,
   "metadata": {
    "ExecuteTime": {
     "end_time": "2021-03-04T07:51:58.904557Z",
     "start_time": "2021-03-04T07:51:58.376323Z"
    }
   },
   "outputs": [
    {
     "data": {
      "image/png": "[encoded data removed]",
      "text/plain": [
       "<Figure size 432x288 with 1 Axes>"
      ]
     },
     "metadata": {
      "needs_background": "light"
     },
     "output_type": "display_data"
    }
   ],
   "source": [
    "plt.scatter(get_standardized_values(model_rd_m.fittedvalues),\n",
    "            get_standardized_values(model_rd_m.resid))\n",
    "\n",
    "plt.title('Residual Plot')\n",
    "plt.xlabel('Standardized Fitted values')\n",
    "plt.ylabel('Standardized residual values')\n",
    "plt.show()"
   ]
  },
  {
   "cell_type": "markdown",
   "metadata": {},
   "source": [
    "There is no pattern in the Residual plot, so we can say there is a linear relation and no error variance"
   ]
  },
  {
   "cell_type": "markdown",
   "metadata": {},
   "source": [
    "### Residuals vs Regressors"
   ]
  },
  {
   "cell_type": "code",
   "execution_count": 56,
   "metadata": {
    "ExecuteTime": {
     "end_time": "2021-03-04T07:52:27.139707Z",
     "start_time": "2021-03-04T07:52:25.947807Z"
    }
   },
   "outputs": [
    {
     "data": {
      "image/png": "[encoded data removed]",
      "text/plain": [
       "<Figure size 1080x576 with 4 Axes>"
      ]
     },
     "metadata": {
      "needs_background": "light"
     },
     "output_type": "display_data"
    }
   ],
   "source": [
    "fig = plt.figure(figsize=(15,8))\n",
    "fig = sm.graphics.plot_regress_exog(model_rd_m, \"RD\", fig=fig)\n",
    "plt.show()"
   ]
  },
  {
   "cell_type": "code",
   "execution_count": 57,
   "metadata": {},
   "outputs": [
    {
     "data": {
      "image/png": "[encoded data removed]",
      "text/plain": [
       "<Figure size 1080x576 with 4 Axes>"
      ]
     },
     "metadata": {
      "needs_background": "light"
     },
     "output_type": "display_data"
    }
   ],
   "source": [
    "fig = plt.figure(figsize=(15,8))\n",
    "fig = sm.graphics.plot_regress_exog(model_rd_m, \"Marketing\", fig=fig)\n",
    "plt.show()"
   ]
  },
  {
   "cell_type": "markdown",
   "metadata": {},
   "source": [
    "There is no pattern in the Residual vs R & D Spend plot, so we can say there is a linear relation and no error variance"
   ]
  },
  {
   "cell_type": "code",
   "execution_count": 58,
   "metadata": {
    "ExecuteTime": {
     "end_time": "2021-03-04T08:11:55.685977Z",
     "start_time": "2021-03-04T08:11:55.672976Z"
    }
   },
   "outputs": [],
   "source": [
    "#Model Deletion Diagnostics\n",
    "#Detecting Influencers/Outliers using Cook's distance\n",
    "model_influence = model_rd_m.get_influence()\n",
    "(c, _) = model_influence.cooks_distance"
   ]
  },
  {
   "cell_type": "code",
   "execution_count": 59,
   "metadata": {
    "ExecuteTime": {
     "end_time": "2021-03-04T08:12:36.118757Z",
     "start_time": "2021-03-04T08:12:35.892896Z"
    }
   },
   "outputs": [
    {
     "data": {
      "image/png": "[encoded data removed]",
      "text/plain": [
       "<Figure size 1440x504 with 1 Axes>"
      ]
     },
     "metadata": {
      "needs_background": "light"
     },
     "output_type": "display_data"
    }
   ],
   "source": [
    "#Plot the influencers values using stem plot\n",
    "\n",
    "fig = plt.subplots(figsize=(20, 7))\n",
    "plt.stem(np.arange(len(startup_std)), np.round(c, 3))\n",
    "plt.xlabel('Row index')\n",
    "plt.ylabel('Cooks Distance')\n",
    "plt.show()"
   ]
  },
  {
   "cell_type": "code",
   "execution_count": 60,
   "metadata": {
    "ExecuteTime": {
     "end_time": "2021-03-04T08:13:05.595784Z",
     "start_time": "2021-03-04T08:13:05.587294Z"
    }
   },
   "outputs": [
    {
     "data": {
      "text/plain": [
       "(49, 0.38948862279249125)"
      ]
     },
     "execution_count": 60,
     "metadata": {},
     "output_type": "execute_result"
    }
   ],
   "source": [
    "(np.argmax(c),np.max(c))"
   ]
  },
  {
   "cell_type": "markdown",
   "metadata": {},
   "source": [
    "We can see that the 49th observation is an Influencer point and has more distance than other data points. We will delete this data point to further increase our accuracy"
   ]
  },
  {
   "cell_type": "code",
   "execution_count": 61,
   "metadata": {
    "ExecuteTime": {
     "end_time": "2021-03-04T08:19:46.18438Z",
     "start_time": "2021-03-04T08:19:46.170764Z"
    }
   },
   "outputs": [],
   "source": [
    "# Improving the model\n",
    "startup=startup_std.drop(startup_std.index[[49]],axis=0).reset_index()"
   ]
  },
  {
   "cell_type": "code",
   "execution_count": 62,
   "metadata": {
    "ExecuteTime": {
     "end_time": "2021-03-04T08:19:58.273745Z",
     "start_time": "2021-03-04T08:19:58.262136Z"
    }
   },
   "outputs": [
    {
     "data": {
      "text/plain": [
       "(49, 8)"
      ]
     },
     "execution_count": 62,
     "metadata": {},
     "output_type": "execute_result"
    }
   ],
   "source": [
    "startup.shape"
   ]
  },
  {
   "cell_type": "code",
   "execution_count": 63,
   "metadata": {
    "ExecuteTime": {
     "end_time": "2021-03-04T08:26:48.822542Z",
     "start_time": "2021-03-04T08:26:48.798668Z"
    }
   },
   "outputs": [
    {
     "data": {
      "text/html": [
       "<div>\n",
       "<style scoped>\n",
       "    .dataframe tbody tr th:only-of-type {\n",
       "        vertical-align: middle;\n",
       "    }\n",
       "\n",
       "    .dataframe tbody tr th {\n",
       "        vertical-align: top;\n",
       "    }\n",
       "\n",
       "    .dataframe thead th {\n",
       "        text-align: right;\n",
       "    }\n",
       "</style>\n",
       "<table border=\"1\" class=\"dataframe\">\n",
       "  <thead>\n",
       "    <tr style=\"text-align: right;\">\n",
       "      <th></th>\n",
       "      <th>index</th>\n",
       "      <th>RD</th>\n",
       "      <th>Administration</th>\n",
       "      <th>Marketing</th>\n",
       "      <th>Profit</th>\n",
       "      <th>State_California</th>\n",
       "      <th>State_Florida</th>\n",
       "      <th>State_NewYork</th>\n",
       "    </tr>\n",
       "  </thead>\n",
       "  <tbody>\n",
       "    <tr>\n",
       "      <th>0</th>\n",
       "      <td>0</td>\n",
       "      <td>2.016411</td>\n",
       "      <td>0.560753</td>\n",
       "      <td>2.153943</td>\n",
       "      <td>192261.83</td>\n",
       "      <td>-0.717741</td>\n",
       "      <td>-0.685994</td>\n",
       "      <td>1.393261</td>\n",
       "    </tr>\n",
       "    <tr>\n",
       "      <th>1</th>\n",
       "      <td>1</td>\n",
       "      <td>1.955860</td>\n",
       "      <td>1.082807</td>\n",
       "      <td>1.923600</td>\n",
       "      <td>191792.06</td>\n",
       "      <td>1.393261</td>\n",
       "      <td>-0.685994</td>\n",
       "      <td>-0.717741</td>\n",
       "    </tr>\n",
       "    <tr>\n",
       "      <th>2</th>\n",
       "      <td>2</td>\n",
       "      <td>1.754364</td>\n",
       "      <td>-0.728257</td>\n",
       "      <td>1.626528</td>\n",
       "      <td>191050.39</td>\n",
       "      <td>-0.717741</td>\n",
       "      <td>1.457738</td>\n",
       "      <td>-0.717741</td>\n",
       "    </tr>\n",
       "    <tr>\n",
       "      <th>3</th>\n",
       "      <td>3</td>\n",
       "      <td>1.554784</td>\n",
       "      <td>-0.096365</td>\n",
       "      <td>1.422210</td>\n",
       "      <td>182901.99</td>\n",
       "      <td>-0.717741</td>\n",
       "      <td>-0.685994</td>\n",
       "      <td>1.393261</td>\n",
       "    </tr>\n",
       "    <tr>\n",
       "      <th>4</th>\n",
       "      <td>4</td>\n",
       "      <td>1.504937</td>\n",
       "      <td>-1.079919</td>\n",
       "      <td>1.281528</td>\n",
       "      <td>166187.94</td>\n",
       "      <td>-0.717741</td>\n",
       "      <td>1.457738</td>\n",
       "      <td>-0.717741</td>\n",
       "    </tr>\n",
       "  </tbody>\n",
       "</table>\n",
       "</div>"
      ],
      "text/plain": [
       "   index        RD  Administration  Marketing     Profit  State_California  \\\n",
       "0      0  2.016411        0.560753   2.153943  192261.83         -0.717741   \n",
       "1      1  1.955860        1.082807   1.923600  191792.06          1.393261   \n",
       "2      2  1.754364       -0.728257   1.626528  191050.39         -0.717741   \n",
       "3      3  1.554784       -0.096365   1.422210  182901.99         -0.717741   \n",
       "4      4  1.504937       -1.079919   1.281528  166187.94         -0.717741   \n",
       "\n",
       "   State_Florida  State_NewYork  \n",
       "0      -0.685994       1.393261  \n",
       "1      -0.685994      -0.717741  \n",
       "2       1.457738      -0.717741  \n",
       "3      -0.685994       1.393261  \n",
       "4       1.457738      -0.717741  "
      ]
     },
     "execution_count": 63,
     "metadata": {},
     "output_type": "execute_result"
    }
   ],
   "source": [
    "startup.head()"
   ]
  },
  {
   "cell_type": "code",
   "execution_count": 64,
   "metadata": {
    "ExecuteTime": {
     "end_time": "2021-03-04T08:27:05.058945Z",
     "start_time": "2021-03-04T08:27:05.033191Z"
    }
   },
   "outputs": [],
   "source": [
    "#Build the model\n",
    "final_model= smf.ols('Profit~RD+Marketing',data = startup).fit()"
   ]
  },
  {
   "cell_type": "code",
   "execution_count": 65,
   "metadata": {
    "ExecuteTime": {
     "end_time": "2021-03-04T08:28:00.463978Z",
     "start_time": "2021-03-04T08:28:00.450137Z"
    }
   },
   "outputs": [
    {
     "data": {
      "text/plain": [
       "(0.9573395972488337, 0.9564319291051918)"
      ]
     },
     "execution_count": 65,
     "metadata": {},
     "output_type": "execute_result"
    }
   ],
   "source": [
    "(final_model.rsquared,final_model.rsquared_adj)"
   ]
  },
  {
   "cell_type": "markdown",
   "metadata": {},
   "source": [
    "#### The adjusted R sqaured value of the model is 0.961. So we can say the accuracy of our model is 96%"
   ]
  }
 ],
 "metadata": {
  "kernelspec": {
   "display_name": "Python 3",
   "language": "python",
   "name": "python3"
  },
  "language_info": {
   "codemirror_mode": {
    "name": "ipython",
    "version": 3
   },
   "file_extension": ".py",
   "mimetype": "text/x-python",
   "name": "python",
   "nbconvert_exporter": "python",
   "pygments_lexer": "ipython3",
   "version": "3.8.5"
  }
 },
 "nbformat": 4,
 "nbformat_minor": 4
}
